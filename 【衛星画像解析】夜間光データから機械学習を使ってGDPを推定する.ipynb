{
  "nbformat": 4,
  "nbformat_minor": 0,
  "metadata": {
    "accelerator": "GPU",
    "colab": {
      "name": "【衛星画像解析】夜間光データから機械学習を使ってGDPを推定する.ipynb",
      "provenance": [],
      "collapsed_sections": [],
      "authorship_tag": "ABX9TyNjqCCTOMFj4K4iEvbVFClc",
      "include_colab_link": true
    },
    "kernelspec": {
      "display_name": "Python 3",
      "name": "python3"
    }
  },
  "cells": [
    {
      "cell_type": "markdown",
      "metadata": {
        "id": "view-in-github",
        "colab_type": "text"
      },
      "source": [
        "<a href=\"https://colab.research.google.com/github/syurenuko/-GDP-.ipynb/blob/main/%E3%80%90%E8%A1%9B%E6%98%9F%E7%94%BB%E5%83%8F%E8%A7%A3%E6%9E%90%E3%80%91%E5%A4%9C%E9%96%93%E5%85%89%E3%83%87%E3%83%BC%E3%82%BF%E3%81%8B%E3%82%89%E6%A9%9F%E6%A2%B0%E5%AD%A6%E7%BF%92%E3%82%92%E4%BD%BF%E3%81%A3%E3%81%A6GDP%E3%82%92%E6%8E%A8%E5%AE%9A%E3%81%99%E3%82%8B.ipynb\" target=\"_parent\"><img src=\"https://colab.research.google.com/assets/colab-badge.svg\" alt=\"Open In Colab\"/></a>"
      ]
    },
    {
      "cell_type": "code",
      "metadata": {
        "id": "v0PjfQOdm4-U"
      },
      "source": [
        "!pip install sh > /dev/null\n",
        "!pip install rasterio > /dev/null\n",
        "!pip install geopandas > /dev/null"
      ],
      "execution_count": 1,
      "outputs": []
    },
    {
      "cell_type": "code",
      "metadata": {
        "id": "ovlhs4Yan0_L"
      },
      "source": [
        "#必要なライブラリをimportする\n",
        "import os\n",
        "from sh import wget, gunzip, mv\n",
        "import tarfile\n",
        "import rasterio\n",
        "import rasterio.mask\n",
        "\n",
        "import numpy as np\n",
        "import pandas as pd\n",
        "import matplotlib.pyplot as plt\n",
        "import seaborn as sns\n",
        "\n",
        "\n",
        "import json\n",
        "from pandas.io.json import json_normalize\n",
        "import geopandas as gpd\n",
        "\n",
        "from sklearn.model_selection import train_test_split\n",
        "from sklearn.model_selection import KFold\n",
        "import lightgbm as lgb\n",
        "from sklearn.metrics import r2_score\n",
        "\n",
        "\n",
        "import warnings\n",
        "warnings.simplefilter('ignore')"
      ],
      "execution_count": 2,
      "outputs": []
    },
    {
      "cell_type": "code",
      "metadata": {
        "id": "C6u8sGz5sU5p"
      },
      "source": [
        "# データ保存用のディレクトリ'data'を作成\n",
        "if not os.path.exists('data'):\n",
        "    os.mkdir('data')"
      ],
      "execution_count": 3,
      "outputs": []
    },
    {
      "cell_type": "markdown",
      "metadata": {
        "id": "vjWiTZ4TUXU9"
      },
      "source": [
        "夜間光データ（2009年）をダウンロードする"
      ]
    },
    {
      "cell_type": "code",
      "metadata": {
        "id": "T9c6HGybsZL6"
      },
      "source": [
        "#　2009年の夜間光データを持ってくる\n",
        "# ダウンロード対象のURLを作成\n",
        "target_data = 'F162009'\n",
        "url = f'https://ngdc.noaa.gov/eog/data/web_data/v4composites/{target_data}.v4.tar'\n",
        "\n",
        "# データのダウンロード\n",
        "wget(url)\n",
        "\n",
        "# 圧縮ファイルの解凍（該当ファイルのみ抽出）\n",
        "with tarfile.open(f'/content/{target_data}.v4.tar') as tar:\n",
        "    # stable_lights.avg_vis.tif.gzというファイル名を取得\n",
        "    file = [tarinfo for tarinfo in tar.getmembers() if tarinfo.name.endswith(\"web.stable_lights.avg_vis.tif.gz\")]\n",
        "    # 対象ファイルを解凍（.gz）\n",
        "    tar.extractall(path='/content/', members=[file[0]])\n",
        "    # 対象ファイルを解凍（Unzip）\n",
        "    gunzip(f'/content/{target_data}.v4b_web.stable_lights.avg_vis.tif.gz')\n",
        "    # 対象ファイルの移動\n",
        "    mv(f'/content/{target_data}.v4b_web.stable_lights.avg_vis.tif', '/content/data/')"
      ],
      "execution_count": 4,
      "outputs": []
    },
    {
      "cell_type": "code",
      "metadata": {
        "id": "gwrrdOvGsZ1i"
      },
      "source": [
        "# numpy形式で読み込み\n",
        "with rasterio.open('/content/data/F162009.v4b_web.stable_lights.avg_vis.tif') as src:  \n",
        "    data = src.read()"
      ],
      "execution_count": 5,
      "outputs": []
    },
    {
      "cell_type": "markdown",
      "metadata": {
        "id": "nnapCnVjUhm6"
      },
      "source": [
        "geojson形式のベクターファイルをダウンロード"
      ]
    },
    {
      "cell_type": "code",
      "metadata": {
        "colab": {
          "base_uri": "https://localhost:8080/"
        },
        "id": "V5SVtWshsjDc",
        "outputId": "b0f2d1a4-8b1d-45d0-a855-9a342ce960b9"
      },
      "source": [
        "# ベクターファイルのダウンロード\n",
        "wget('https://datahub.io/core/geo-countries/r/countries.geojson')  "
      ],
      "execution_count": 6,
      "outputs": [
        {
          "output_type": "execute_result",
          "data": {
            "text/plain": [
              ""
            ]
          },
          "metadata": {
            "tags": []
          },
          "execution_count": 6
        }
      ]
    },
    {
      "cell_type": "code",
      "metadata": {
        "id": "hmoSc-egtB_1"
      },
      "source": [
        "# geojsonファイルの読み込み\n",
        "countries = gpd.read_file('/content/countries.geojson')"
      ],
      "execution_count": 7,
      "outputs": []
    },
    {
      "cell_type": "code",
      "metadata": {
        "colab": {
          "base_uri": "https://localhost:8080/",
          "height": 391
        },
        "id": "QzfQKZl3tTTF",
        "outputId": "4224347b-a727-4202-d707-d8bac76050d5"
      },
      "source": [
        "#geojsonファイルの中身確認\n",
        "countries"
      ],
      "execution_count": 8,
      "outputs": [
        {
          "output_type": "execute_result",
          "data": {
            "text/html": [
              "<div>\n",
              "<style scoped>\n",
              "    .dataframe tbody tr th:only-of-type {\n",
              "        vertical-align: middle;\n",
              "    }\n",
              "\n",
              "    .dataframe tbody tr th {\n",
              "        vertical-align: top;\n",
              "    }\n",
              "\n",
              "    .dataframe thead th {\n",
              "        text-align: right;\n",
              "    }\n",
              "</style>\n",
              "<table border=\"1\" class=\"dataframe\">\n",
              "  <thead>\n",
              "    <tr style=\"text-align: right;\">\n",
              "      <th></th>\n",
              "      <th>ADMIN</th>\n",
              "      <th>ISO_A3</th>\n",
              "      <th>geometry</th>\n",
              "    </tr>\n",
              "  </thead>\n",
              "  <tbody>\n",
              "    <tr>\n",
              "      <th>0</th>\n",
              "      <td>Aruba</td>\n",
              "      <td>ABW</td>\n",
              "      <td>POLYGON ((-69.99694 12.57758, -69.93639 12.531...</td>\n",
              "    </tr>\n",
              "    <tr>\n",
              "      <th>1</th>\n",
              "      <td>Afghanistan</td>\n",
              "      <td>AFG</td>\n",
              "      <td>POLYGON ((71.04980 38.40866, 71.05714 38.40903...</td>\n",
              "    </tr>\n",
              "    <tr>\n",
              "      <th>2</th>\n",
              "      <td>Angola</td>\n",
              "      <td>AGO</td>\n",
              "      <td>MULTIPOLYGON (((11.73752 -16.69258, 11.73851 -...</td>\n",
              "    </tr>\n",
              "    <tr>\n",
              "      <th>3</th>\n",
              "      <td>Anguilla</td>\n",
              "      <td>AIA</td>\n",
              "      <td>MULTIPOLYGON (((-63.03767 18.21296, -63.09952 ...</td>\n",
              "    </tr>\n",
              "    <tr>\n",
              "      <th>4</th>\n",
              "      <td>Albania</td>\n",
              "      <td>ALB</td>\n",
              "      <td>POLYGON ((19.74777 42.57890, 19.74601 42.57993...</td>\n",
              "    </tr>\n",
              "    <tr>\n",
              "      <th>...</th>\n",
              "      <td>...</td>\n",
              "      <td>...</td>\n",
              "      <td>...</td>\n",
              "    </tr>\n",
              "    <tr>\n",
              "      <th>250</th>\n",
              "      <td>Samoa</td>\n",
              "      <td>WSM</td>\n",
              "      <td>MULTIPOLYGON (((-171.57002 -13.93816, -171.564...</td>\n",
              "    </tr>\n",
              "    <tr>\n",
              "      <th>251</th>\n",
              "      <td>Yemen</td>\n",
              "      <td>YEM</td>\n",
              "      <td>MULTIPOLYGON (((53.30824 12.11839, 53.31027 12...</td>\n",
              "    </tr>\n",
              "    <tr>\n",
              "      <th>252</th>\n",
              "      <td>South Africa</td>\n",
              "      <td>ZAF</td>\n",
              "      <td>MULTIPOLYGON (((37.86378 -46.94085, 37.83644 -...</td>\n",
              "    </tr>\n",
              "    <tr>\n",
              "      <th>253</th>\n",
              "      <td>Zambia</td>\n",
              "      <td>ZMB</td>\n",
              "      <td>POLYGON ((31.11984 -8.61663, 31.14102 -8.60619...</td>\n",
              "    </tr>\n",
              "    <tr>\n",
              "      <th>254</th>\n",
              "      <td>Zimbabwe</td>\n",
              "      <td>ZWE</td>\n",
              "      <td>POLYGON ((30.01065 -15.64623, 30.05024 -15.640...</td>\n",
              "    </tr>\n",
              "  </tbody>\n",
              "</table>\n",
              "<p>255 rows × 3 columns</p>\n",
              "</div>"
            ],
            "text/plain": [
              "            ADMIN ISO_A3                                           geometry\n",
              "0           Aruba    ABW  POLYGON ((-69.99694 12.57758, -69.93639 12.531...\n",
              "1     Afghanistan    AFG  POLYGON ((71.04980 38.40866, 71.05714 38.40903...\n",
              "2          Angola    AGO  MULTIPOLYGON (((11.73752 -16.69258, 11.73851 -...\n",
              "3        Anguilla    AIA  MULTIPOLYGON (((-63.03767 18.21296, -63.09952 ...\n",
              "4         Albania    ALB  POLYGON ((19.74777 42.57890, 19.74601 42.57993...\n",
              "..            ...    ...                                                ...\n",
              "250         Samoa    WSM  MULTIPOLYGON (((-171.57002 -13.93816, -171.564...\n",
              "251         Yemen    YEM  MULTIPOLYGON (((53.30824 12.11839, 53.31027 12...\n",
              "252  South Africa    ZAF  MULTIPOLYGON (((37.86378 -46.94085, 37.83644 -...\n",
              "253        Zambia    ZMB  POLYGON ((31.11984 -8.61663, 31.14102 -8.60619...\n",
              "254      Zimbabwe    ZWE  POLYGON ((30.01065 -15.64623, 30.05024 -15.640...\n",
              "\n",
              "[255 rows x 3 columns]"
            ]
          },
          "metadata": {
            "tags": []
          },
          "execution_count": 8
        }
      ]
    },
    {
      "cell_type": "markdown",
      "metadata": {
        "id": "zVZEHP_WUrkB"
      },
      "source": [
        "各国の夜間光データの可視化"
      ]
    },
    {
      "cell_type": "code",
      "metadata": {
        "id": "Sp9n6zBftYlb"
      },
      "source": [
        "def load_ntl(target_data, area):\n",
        "    # TIFファイルから該当エリアのデータを抽出\n",
        "    with rasterio.open(f'/content/data/{target_data}.v4b_web.stable_lights.avg_vis.tif') as src:\n",
        "        out_image, out_transform = rasterio.mask.mask(src, countries.query(f'ISO_A3 == \"{area}\"').geometry, crop=True)\n",
        "    return out_image\n",
        "\n",
        "# 可視化用の関数\n",
        "def show(data):\n",
        "    plt.figure(figsize=(15, 5))\n",
        "    plt.subplot(121)\n",
        "    plt.imshow(data[0])\n",
        "    plt.subplot(122)\n",
        "    #光を発している部分の可視化\n",
        "    plt.hist(data.reshape(-1), bins=np.arange(1, 63, 1))"
      ],
      "execution_count": 9,
      "outputs": []
    },
    {
      "cell_type": "code",
      "metadata": {
        "colab": {
          "base_uri": "https://localhost:8080/",
          "height": 1000
        },
        "id": "sHi_6Nd9uCWo",
        "outputId": "076125ef-3423-43eb-b7a0-ef1764ca5d6c"
      },
      "source": [
        "# 日本・アメリカ・中国・イギリスのデータを取得、可視化\n",
        "japan_2009 = load_ntl(target_data='F162009', area='JPN')\n",
        "germany_2009 = load_ntl(target_data='F162009', area='DEU')\n",
        "china_2009 = load_ntl(target_data='F162009', area='CHN')\n",
        "uk_2009 = load_ntl(target_data='F162009', area='GBR')\n",
        "\n",
        "show(japan_2009)\n",
        "show(germany_2009)\n",
        "show(china_2009)\n",
        "show(uk_2009)\n",
        "\n",
        "#名前変える"
      ],
      "execution_count": 10,
      "outputs": [
        {
          "output_type": "display_data",
          "data": {
            "image/png": "[encoded data removed]",
            "text/plain": [
              "<Figure size 1080x360 with 2 Axes>"
            ]
          },
          "metadata": {
            "tags": [],
            "needs_background": "light"
          }
        },
        {
          "output_type": "display_data",
          "data": {
            "image/png": "[encoded data removed]",
            "text/plain": [
              "<Figure size 1080x360 with 2 Axes>"
            ]
          },
          "metadata": {
            "tags": [],
            "needs_background": "light"
          }
        },
        {
          "output_type": "display_data",
          "data": {
            "image/png": "[encoded data removed]",
            "text/plain": [
              "<Figure size 1080x360 with 2 Axes>"
            ]
          },
          "metadata": {
            "tags": [],
            "needs_background": "light"
          }
        },
        {
          "output_type": "display_data",
          "data": {
            "image/png": "[encoded data removed]",
            "text/plain": [
              "<Figure size 1080x360 with 2 Axes>"
            ]
          },
          "metadata": {
            "tags": [],
            "needs_background": "light"
          }
        }
      ]
    },
    {
      "cell_type": "markdown",
      "metadata": {
        "id": "uJDqUorDUQjW"
      },
      "source": [
        "函館の夜間光可視化"
      ]
    },
    {
      "cell_type": "markdown",
      "metadata": {
        "id": "-mdz66B5Tt5x"
      },
      "source": [
        "国土交通省の「国土数値情報」から市町村の行政区域データを持ってきます。\n",
        "wgetでデータ持ってこれるようにしたかったのですが、なぜかzipファイルの中身が不完全の状態でダウンロードされてしまったので、手動でウェブサイトからダウンロードしてColabにアップロードしています。\n",
        "使用しているのは令和2年北海道の行政区域データN03-20200101_01_GML.zipの中にある\"N03-20_01_200101.geojson\"です。"
      ]
    },
    {
      "cell_type": "markdown",
      "metadata": {
        "id": "L5DlFUw8Z9zw"
      },
      "source": [
        "該当ページリンク　https://nlftp.mlit.go.jp/ksj/gml/datalist/KsjTmplt-N03-v2_4.html#prefecture"
      ]
    },
    {
      "cell_type": "code",
      "metadata": {
        "colab": {
          "base_uri": "https://localhost:8080/",
          "height": 391
        },
        "id": "50uD6bDTvgGg",
        "outputId": "e3abd012-412e-4f10-af38-af3a26e1e224"
      },
      "source": [
        "# geojsonファイルの読み込み\n",
        "city = gpd.read_file('/content/N03-20_01_200101.geojson')\n",
        "# 中身の確認\n",
        "city"
      ],
      "execution_count": 11,
      "outputs": [
        {
          "output_type": "execute_result",
          "data": {
            "text/html": [
              "<div>\n",
              "<style scoped>\n",
              "    .dataframe tbody tr th:only-of-type {\n",
              "        vertical-align: middle;\n",
              "    }\n",
              "\n",
              "    .dataframe tbody tr th {\n",
              "        vertical-align: top;\n",
              "    }\n",
              "\n",
              "    .dataframe thead th {\n",
              "        text-align: right;\n",
              "    }\n",
              "</style>\n",
              "<table border=\"1\" class=\"dataframe\">\n",
              "  <thead>\n",
              "    <tr style=\"text-align: right;\">\n",
              "      <th></th>\n",
              "      <th>N03_001</th>\n",
              "      <th>N03_002</th>\n",
              "      <th>N03_003</th>\n",
              "      <th>N03_004</th>\n",
              "      <th>N03_007</th>\n",
              "      <th>_color</th>\n",
              "      <th>_opacity</th>\n",
              "      <th>_weight</th>\n",
              "      <th>_fillColor</th>\n",
              "      <th>_fillOpacity</th>\n",
              "      <th>geometry</th>\n",
              "    </tr>\n",
              "  </thead>\n",
              "  <tbody>\n",
              "    <tr>\n",
              "      <th>0</th>\n",
              "      <td>北海道</td>\n",
              "      <td>石狩振興局</td>\n",
              "      <td>札幌市</td>\n",
              "      <td>中央区</td>\n",
              "      <td>01101</td>\n",
              "      <td>#3388ff</td>\n",
              "      <td>1</td>\n",
              "      <td>3</td>\n",
              "      <td>#3388ff</td>\n",
              "      <td>0.2</td>\n",
              "      <td>POLYGON ((141.25743 42.99782, 141.25724 42.997...</td>\n",
              "    </tr>\n",
              "    <tr>\n",
              "      <th>1</th>\n",
              "      <td>北海道</td>\n",
              "      <td>石狩振興局</td>\n",
              "      <td>札幌市</td>\n",
              "      <td>北区</td>\n",
              "      <td>01102</td>\n",
              "      <td>#3388ff</td>\n",
              "      <td>1</td>\n",
              "      <td>3</td>\n",
              "      <td>#3388ff</td>\n",
              "      <td>0.2</td>\n",
              "      <td>POLYGON ((141.33333 43.07497, 141.33331 43.075...</td>\n",
              "    </tr>\n",
              "    <tr>\n",
              "      <th>2</th>\n",
              "      <td>北海道</td>\n",
              "      <td>石狩振興局</td>\n",
              "      <td>札幌市</td>\n",
              "      <td>東区</td>\n",
              "      <td>01103</td>\n",
              "      <td>#3388ff</td>\n",
              "      <td>1</td>\n",
              "      <td>3</td>\n",
              "      <td>#3388ff</td>\n",
              "      <td>0.2</td>\n",
              "      <td>POLYGON ((141.37500 43.06851, 141.37370 43.068...</td>\n",
              "    </tr>\n",
              "    <tr>\n",
              "      <th>3</th>\n",
              "      <td>北海道</td>\n",
              "      <td>石狩振興局</td>\n",
              "      <td>札幌市</td>\n",
              "      <td>白石区</td>\n",
              "      <td>01104</td>\n",
              "      <td>#3388ff</td>\n",
              "      <td>1</td>\n",
              "      <td>3</td>\n",
              "      <td>#3388ff</td>\n",
              "      <td>0.2</td>\n",
              "      <td>POLYGON ((141.36645 43.05797, 141.36665 43.058...</td>\n",
              "    </tr>\n",
              "    <tr>\n",
              "      <th>4</th>\n",
              "      <td>北海道</td>\n",
              "      <td>石狩振興局</td>\n",
              "      <td>札幌市</td>\n",
              "      <td>豊平区</td>\n",
              "      <td>01105</td>\n",
              "      <td>#3388ff</td>\n",
              "      <td>1</td>\n",
              "      <td>3</td>\n",
              "      <td>#3388ff</td>\n",
              "      <td>0.2</td>\n",
              "      <td>POLYGON ((141.36365 42.94124, 141.36366 42.941...</td>\n",
              "    </tr>\n",
              "    <tr>\n",
              "      <th>...</th>\n",
              "      <td>...</td>\n",
              "      <td>...</td>\n",
              "      <td>...</td>\n",
              "      <td>...</td>\n",
              "      <td>...</td>\n",
              "      <td>...</td>\n",
              "      <td>...</td>\n",
              "      <td>...</td>\n",
              "      <td>...</td>\n",
              "      <td>...</td>\n",
              "      <td>...</td>\n",
              "    </tr>\n",
              "    <tr>\n",
              "      <th>9513</th>\n",
              "      <td>北海道</td>\n",
              "      <td>根室振興局</td>\n",
              "      <td>蘂取郡</td>\n",
              "      <td>蘂取村</td>\n",
              "      <td>01700</td>\n",
              "      <td>#3388ff</td>\n",
              "      <td>1</td>\n",
              "      <td>3</td>\n",
              "      <td>#3388ff</td>\n",
              "      <td>0.2</td>\n",
              "      <td>POLYGON ((148.76893 45.55595, 148.76894 45.555...</td>\n",
              "    </tr>\n",
              "    <tr>\n",
              "      <th>9514</th>\n",
              "      <td>北海道</td>\n",
              "      <td>根室振興局</td>\n",
              "      <td>蘂取郡</td>\n",
              "      <td>蘂取村</td>\n",
              "      <td>01700</td>\n",
              "      <td>#3388ff</td>\n",
              "      <td>1</td>\n",
              "      <td>3</td>\n",
              "      <td>#3388ff</td>\n",
              "      <td>0.2</td>\n",
              "      <td>POLYGON ((148.77259 45.55665, 148.77260 45.556...</td>\n",
              "    </tr>\n",
              "    <tr>\n",
              "      <th>9515</th>\n",
              "      <td>北海道</td>\n",
              "      <td>根室振興局</td>\n",
              "      <td>蘂取郡</td>\n",
              "      <td>蘂取村</td>\n",
              "      <td>01700</td>\n",
              "      <td>#3388ff</td>\n",
              "      <td>1</td>\n",
              "      <td>3</td>\n",
              "      <td>#3388ff</td>\n",
              "      <td>0.2</td>\n",
              "      <td>POLYGON ((148.78945 45.55598, 148.78957 45.555...</td>\n",
              "    </tr>\n",
              "    <tr>\n",
              "      <th>9516</th>\n",
              "      <td>北海道</td>\n",
              "      <td>根室振興局</td>\n",
              "      <td>蘂取郡</td>\n",
              "      <td>蘂取村</td>\n",
              "      <td>01700</td>\n",
              "      <td>#3388ff</td>\n",
              "      <td>1</td>\n",
              "      <td>3</td>\n",
              "      <td>#3388ff</td>\n",
              "      <td>0.2</td>\n",
              "      <td>POLYGON ((148.87741 45.52740, 148.87743 45.527...</td>\n",
              "    </tr>\n",
              "    <tr>\n",
              "      <th>9517</th>\n",
              "      <td>北海道</td>\n",
              "      <td>根室振興局</td>\n",
              "      <td>蘂取郡</td>\n",
              "      <td>蘂取村</td>\n",
              "      <td>01700</td>\n",
              "      <td>#3388ff</td>\n",
              "      <td>1</td>\n",
              "      <td>3</td>\n",
              "      <td>#3388ff</td>\n",
              "      <td>0.2</td>\n",
              "      <td>POLYGON ((148.89439 45.50227, 148.89437 45.502...</td>\n",
              "    </tr>\n",
              "  </tbody>\n",
              "</table>\n",
              "<p>9518 rows × 11 columns</p>\n",
              "</div>"
            ],
            "text/plain": [
              "     N03_001  ...                                           geometry\n",
              "0        北海道  ...  POLYGON ((141.25743 42.99782, 141.25724 42.997...\n",
              "1        北海道  ...  POLYGON ((141.33333 43.07497, 141.33331 43.075...\n",
              "2        北海道  ...  POLYGON ((141.37500 43.06851, 141.37370 43.068...\n",
              "3        北海道  ...  POLYGON ((141.36645 43.05797, 141.36665 43.058...\n",
              "4        北海道  ...  POLYGON ((141.36365 42.94124, 141.36366 42.941...\n",
              "...      ...  ...                                                ...\n",
              "9513     北海道  ...  POLYGON ((148.76893 45.55595, 148.76894 45.555...\n",
              "9514     北海道  ...  POLYGON ((148.77259 45.55665, 148.77260 45.556...\n",
              "9515     北海道  ...  POLYGON ((148.78945 45.55598, 148.78957 45.555...\n",
              "9516     北海道  ...  POLYGON ((148.87741 45.52740, 148.87743 45.527...\n",
              "9517     北海道  ...  POLYGON ((148.89439 45.50227, 148.89437 45.502...\n",
              "\n",
              "[9518 rows x 11 columns]"
            ]
          },
          "metadata": {
            "tags": []
          },
          "execution_count": 11
        }
      ]
    },
    {
      "cell_type": "code",
      "metadata": {
        "colab": {
          "base_uri": "https://localhost:8080/",
          "height": 268
        },
        "id": "TSUs0inzzO93",
        "outputId": "bf3961a8-1182-45e5-d508-e6531e21eb41"
      },
      "source": [
        "#plotするとちゃんと北海道\n",
        "city.plot()"
      ],
      "execution_count": 12,
      "outputs": [
        {
          "output_type": "execute_result",
          "data": {
            "text/plain": [
              "<matplotlib.axes._subplots.AxesSubplot at 0x7fa230f9efd0>"
            ]
          },
          "metadata": {
            "tags": []
          },
          "execution_count": 12
        },
        {
          "output_type": "display_data",
          "data": {
            "image/png": "[encoded data removed]",
            "text/plain": [
              "<Figure size 432x288 with 1 Axes>"
            ]
          },
          "metadata": {
            "tags": [],
            "needs_background": "light"
          }
        }
      ]
    },
    {
      "cell_type": "code",
      "metadata": {
        "colab": {
          "base_uri": "https://localhost:8080/",
          "height": 391
        },
        "id": "lOThM1nuzkPl",
        "outputId": "cb18be45-a81a-4387-81fb-640a54811c11"
      },
      "source": [
        "#函館市のデータを確認\n",
        "city.query('N03_004==\"函館市\"')"
      ],
      "execution_count": 13,
      "outputs": [
        {
          "output_type": "execute_result",
          "data": {
            "text/html": [
              "<div>\n",
              "<style scoped>\n",
              "    .dataframe tbody tr th:only-of-type {\n",
              "        vertical-align: middle;\n",
              "    }\n",
              "\n",
              "    .dataframe tbody tr th {\n",
              "        vertical-align: top;\n",
              "    }\n",
              "\n",
              "    .dataframe thead th {\n",
              "        text-align: right;\n",
              "    }\n",
              "</style>\n",
              "<table border=\"1\" class=\"dataframe\">\n",
              "  <thead>\n",
              "    <tr style=\"text-align: right;\">\n",
              "      <th></th>\n",
              "      <th>N03_001</th>\n",
              "      <th>N03_002</th>\n",
              "      <th>N03_003</th>\n",
              "      <th>N03_004</th>\n",
              "      <th>N03_007</th>\n",
              "      <th>_color</th>\n",
              "      <th>_opacity</th>\n",
              "      <th>_weight</th>\n",
              "      <th>_fillColor</th>\n",
              "      <th>_fillOpacity</th>\n",
              "      <th>geometry</th>\n",
              "    </tr>\n",
              "  </thead>\n",
              "  <tbody>\n",
              "    <tr>\n",
              "      <th>10</th>\n",
              "      <td>北海道</td>\n",
              "      <td>渡島総合振興局</td>\n",
              "      <td></td>\n",
              "      <td>函館市</td>\n",
              "      <td>01202</td>\n",
              "      <td>#3388ff</td>\n",
              "      <td>1</td>\n",
              "      <td>3</td>\n",
              "      <td>#3388ff</td>\n",
              "      <td>0.2</td>\n",
              "      <td>POLYGON ((140.89877 41.74728, 140.89880 41.747...</td>\n",
              "    </tr>\n",
              "    <tr>\n",
              "      <th>11</th>\n",
              "      <td>北海道</td>\n",
              "      <td>渡島総合振興局</td>\n",
              "      <td></td>\n",
              "      <td>函館市</td>\n",
              "      <td>01202</td>\n",
              "      <td>#3388ff</td>\n",
              "      <td>1</td>\n",
              "      <td>3</td>\n",
              "      <td>#3388ff</td>\n",
              "      <td>0.2</td>\n",
              "      <td>POLYGON ((140.96223 41.70951, 140.96227 41.709...</td>\n",
              "    </tr>\n",
              "    <tr>\n",
              "      <th>12</th>\n",
              "      <td>北海道</td>\n",
              "      <td>渡島総合振興局</td>\n",
              "      <td></td>\n",
              "      <td>函館市</td>\n",
              "      <td>01202</td>\n",
              "      <td>#3388ff</td>\n",
              "      <td>1</td>\n",
              "      <td>3</td>\n",
              "      <td>#3388ff</td>\n",
              "      <td>0.2</td>\n",
              "      <td>POLYGON ((140.96879 41.71007, 140.96885 41.710...</td>\n",
              "    </tr>\n",
              "    <tr>\n",
              "      <th>13</th>\n",
              "      <td>北海道</td>\n",
              "      <td>渡島総合振興局</td>\n",
              "      <td></td>\n",
              "      <td>函館市</td>\n",
              "      <td>01202</td>\n",
              "      <td>#3388ff</td>\n",
              "      <td>1</td>\n",
              "      <td>3</td>\n",
              "      <td>#3388ff</td>\n",
              "      <td>0.2</td>\n",
              "      <td>POLYGON ((140.97063 41.71068, 140.97065 41.710...</td>\n",
              "    </tr>\n",
              "    <tr>\n",
              "      <th>14</th>\n",
              "      <td>北海道</td>\n",
              "      <td>渡島総合振興局</td>\n",
              "      <td></td>\n",
              "      <td>函館市</td>\n",
              "      <td>01202</td>\n",
              "      <td>#3388ff</td>\n",
              "      <td>1</td>\n",
              "      <td>3</td>\n",
              "      <td>#3388ff</td>\n",
              "      <td>0.2</td>\n",
              "      <td>POLYGON ((140.97329 41.71146, 140.97335 41.711...</td>\n",
              "    </tr>\n",
              "    <tr>\n",
              "      <th>...</th>\n",
              "      <td>...</td>\n",
              "      <td>...</td>\n",
              "      <td>...</td>\n",
              "      <td>...</td>\n",
              "      <td>...</td>\n",
              "      <td>...</td>\n",
              "      <td>...</td>\n",
              "      <td>...</td>\n",
              "      <td>...</td>\n",
              "      <td>...</td>\n",
              "      <td>...</td>\n",
              "    </tr>\n",
              "    <tr>\n",
              "      <th>146</th>\n",
              "      <td>北海道</td>\n",
              "      <td>渡島総合振興局</td>\n",
              "      <td></td>\n",
              "      <td>函館市</td>\n",
              "      <td>01202</td>\n",
              "      <td>#3388ff</td>\n",
              "      <td>1</td>\n",
              "      <td>3</td>\n",
              "      <td>#3388ff</td>\n",
              "      <td>0.2</td>\n",
              "      <td>POLYGON ((141.09704 41.87792, 141.09704 41.877...</td>\n",
              "    </tr>\n",
              "    <tr>\n",
              "      <th>147</th>\n",
              "      <td>北海道</td>\n",
              "      <td>渡島総合振興局</td>\n",
              "      <td></td>\n",
              "      <td>函館市</td>\n",
              "      <td>01202</td>\n",
              "      <td>#3388ff</td>\n",
              "      <td>1</td>\n",
              "      <td>3</td>\n",
              "      <td>#3388ff</td>\n",
              "      <td>0.2</td>\n",
              "      <td>POLYGON ((141.12165 41.86445, 141.12167 41.864...</td>\n",
              "    </tr>\n",
              "    <tr>\n",
              "      <th>148</th>\n",
              "      <td>北海道</td>\n",
              "      <td>渡島総合振興局</td>\n",
              "      <td></td>\n",
              "      <td>函館市</td>\n",
              "      <td>01202</td>\n",
              "      <td>#3388ff</td>\n",
              "      <td>1</td>\n",
              "      <td>3</td>\n",
              "      <td>#3388ff</td>\n",
              "      <td>0.2</td>\n",
              "      <td>POLYGON ((141.12268 41.86506, 141.12267 41.865...</td>\n",
              "    </tr>\n",
              "    <tr>\n",
              "      <th>149</th>\n",
              "      <td>北海道</td>\n",
              "      <td>渡島総合振興局</td>\n",
              "      <td></td>\n",
              "      <td>函館市</td>\n",
              "      <td>01202</td>\n",
              "      <td>#3388ff</td>\n",
              "      <td>1</td>\n",
              "      <td>3</td>\n",
              "      <td>#3388ff</td>\n",
              "      <td>0.2</td>\n",
              "      <td>POLYGON ((141.11741 41.86859, 141.11745 41.868...</td>\n",
              "    </tr>\n",
              "    <tr>\n",
              "      <th>150</th>\n",
              "      <td>北海道</td>\n",
              "      <td>渡島総合振興局</td>\n",
              "      <td></td>\n",
              "      <td>函館市</td>\n",
              "      <td>01202</td>\n",
              "      <td>#3388ff</td>\n",
              "      <td>1</td>\n",
              "      <td>3</td>\n",
              "      <td>#3388ff</td>\n",
              "      <td>0.2</td>\n",
              "      <td>POLYGON ((141.12592 41.86310, 141.12588 41.863...</td>\n",
              "    </tr>\n",
              "  </tbody>\n",
              "</table>\n",
              "<p>141 rows × 11 columns</p>\n",
              "</div>"
            ],
            "text/plain": [
              "    N03_001  ...                                           geometry\n",
              "10      北海道  ...  POLYGON ((140.89877 41.74728, 140.89880 41.747...\n",
              "11      北海道  ...  POLYGON ((140.96223 41.70951, 140.96227 41.709...\n",
              "12      北海道  ...  POLYGON ((140.96879 41.71007, 140.96885 41.710...\n",
              "13      北海道  ...  POLYGON ((140.97063 41.71068, 140.97065 41.710...\n",
              "14      北海道  ...  POLYGON ((140.97329 41.71146, 140.97335 41.711...\n",
              "..      ...  ...                                                ...\n",
              "146     北海道  ...  POLYGON ((141.09704 41.87792, 141.09704 41.877...\n",
              "147     北海道  ...  POLYGON ((141.12165 41.86445, 141.12167 41.864...\n",
              "148     北海道  ...  POLYGON ((141.12268 41.86506, 141.12267 41.865...\n",
              "149     北海道  ...  POLYGON ((141.11741 41.86859, 141.11745 41.868...\n",
              "150     北海道  ...  POLYGON ((141.12592 41.86310, 141.12588 41.863...\n",
              "\n",
              "[141 rows x 11 columns]"
            ]
          },
          "metadata": {
            "tags": []
          },
          "execution_count": 13
        }
      ]
    },
    {
      "cell_type": "code",
      "metadata": {
        "colab": {
          "base_uri": "https://localhost:8080/",
          "height": 271
        },
        "id": "DG5J5k9-z36d",
        "outputId": "c642cf5b-9c7b-43de-f3cf-fb9b2eb68bb9"
      },
      "source": [
        "with rasterio.open('/content/data/F162009.v4b_web.stable_lights.avg_vis.tif') as src:\n",
        "    out_image, out_transform = rasterio.mask.mask(src, city.query('N03_004==\"函館市\"').geometry, crop=True)\n",
        "\n",
        "# データの可視化\n",
        "plt.imshow(out_image[0])\n",
        "plt.colorbar()"
      ],
      "execution_count": 14,
      "outputs": [
        {
          "output_type": "execute_result",
          "data": {
            "text/plain": [
              "<matplotlib.colorbar.Colorbar at 0x7fa22f0e1d50>"
            ]
          },
          "metadata": {
            "tags": []
          },
          "execution_count": 14
        },
        {
          "output_type": "display_data",
          "data": {
            "image/png": "[encoded data removed]",
            "text/plain": [
              "<Figure size 432x288 with 2 Axes>"
            ]
          },
          "metadata": {
            "tags": [],
            "needs_background": "light"
          }
        }
      ]
    },
    {
      "cell_type": "markdown",
      "metadata": {
        "id": "PlzrH8nrT1u6"
      },
      "source": [
        "DataHub.ioからGDPデータをダウンロード"
      ]
    },
    {
      "cell_type": "code",
      "metadata": {
        "colab": {
          "base_uri": "https://localhost:8080/"
        },
        "id": "lfPHajwguMpD",
        "outputId": "5d8bc798-d259-46ab-f9d3-592c7729acb5"
      },
      "source": [
        "#GDPデータのダウンロード\n",
        "wget('https://datahub.io/core/gdp/r/0.csv')"
      ],
      "execution_count": 15,
      "outputs": [
        {
          "output_type": "execute_result",
          "data": {
            "text/plain": [
              ""
            ]
          },
          "metadata": {
            "tags": []
          },
          "execution_count": 15
        }
      ]
    },
    {
      "cell_type": "code",
      "metadata": {
        "colab": {
          "base_uri": "https://localhost:8080/",
          "height": 391
        },
        "id": "L_P81fMVulyC",
        "outputId": "e5fde65b-1ac0-414e-c46e-809d6fe73c3d"
      },
      "source": [
        "#指数表記を避けるため小数点以下第2位まで表示されるように設定\n",
        "pd.options.display.float_format = '{:.2f}'.format\n",
        "# geojsonファイルの読み込み\n",
        "gdp = pd.read_csv('/content/0.csv')\n",
        "# 中身の確認\n",
        "gdp"
      ],
      "execution_count": 16,
      "outputs": [
        {
          "output_type": "execute_result",
          "data": {
            "text/html": [
              "<div>\n",
              "<style scoped>\n",
              "    .dataframe tbody tr th:only-of-type {\n",
              "        vertical-align: middle;\n",
              "    }\n",
              "\n",
              "    .dataframe tbody tr th {\n",
              "        vertical-align: top;\n",
              "    }\n",
              "\n",
              "    .dataframe thead th {\n",
              "        text-align: right;\n",
              "    }\n",
              "</style>\n",
              "<table border=\"1\" class=\"dataframe\">\n",
              "  <thead>\n",
              "    <tr style=\"text-align: right;\">\n",
              "      <th></th>\n",
              "      <th>Country Name</th>\n",
              "      <th>Country Code</th>\n",
              "      <th>Year</th>\n",
              "      <th>Value</th>\n",
              "    </tr>\n",
              "  </thead>\n",
              "  <tbody>\n",
              "    <tr>\n",
              "      <th>0</th>\n",
              "      <td>Arab World</td>\n",
              "      <td>ARB</td>\n",
              "      <td>1968</td>\n",
              "      <td>25760683041.09</td>\n",
              "    </tr>\n",
              "    <tr>\n",
              "      <th>1</th>\n",
              "      <td>Arab World</td>\n",
              "      <td>ARB</td>\n",
              "      <td>1969</td>\n",
              "      <td>28434203615.48</td>\n",
              "    </tr>\n",
              "    <tr>\n",
              "      <th>2</th>\n",
              "      <td>Arab World</td>\n",
              "      <td>ARB</td>\n",
              "      <td>1970</td>\n",
              "      <td>31385499664.07</td>\n",
              "    </tr>\n",
              "    <tr>\n",
              "      <th>3</th>\n",
              "      <td>Arab World</td>\n",
              "      <td>ARB</td>\n",
              "      <td>1971</td>\n",
              "      <td>36426909888.39</td>\n",
              "    </tr>\n",
              "    <tr>\n",
              "      <th>4</th>\n",
              "      <td>Arab World</td>\n",
              "      <td>ARB</td>\n",
              "      <td>1972</td>\n",
              "      <td>43316056615.46</td>\n",
              "    </tr>\n",
              "    <tr>\n",
              "      <th>...</th>\n",
              "      <td>...</td>\n",
              "      <td>...</td>\n",
              "      <td>...</td>\n",
              "      <td>...</td>\n",
              "    </tr>\n",
              "    <tr>\n",
              "      <th>11502</th>\n",
              "      <td>Zimbabwe</td>\n",
              "      <td>ZWE</td>\n",
              "      <td>2012</td>\n",
              "      <td>14242490252.43</td>\n",
              "    </tr>\n",
              "    <tr>\n",
              "      <th>11503</th>\n",
              "      <td>Zimbabwe</td>\n",
              "      <td>ZWE</td>\n",
              "      <td>2013</td>\n",
              "      <td>15451768658.55</td>\n",
              "    </tr>\n",
              "    <tr>\n",
              "      <th>11504</th>\n",
              "      <td>Zimbabwe</td>\n",
              "      <td>ZWE</td>\n",
              "      <td>2014</td>\n",
              "      <td>15891049235.99</td>\n",
              "    </tr>\n",
              "    <tr>\n",
              "      <th>11505</th>\n",
              "      <td>Zimbabwe</td>\n",
              "      <td>ZWE</td>\n",
              "      <td>2015</td>\n",
              "      <td>16304667807.07</td>\n",
              "    </tr>\n",
              "    <tr>\n",
              "      <th>11506</th>\n",
              "      <td>Zimbabwe</td>\n",
              "      <td>ZWE</td>\n",
              "      <td>2016</td>\n",
              "      <td>16619960401.90</td>\n",
              "    </tr>\n",
              "  </tbody>\n",
              "</table>\n",
              "<p>11507 rows × 4 columns</p>\n",
              "</div>"
            ],
            "text/plain": [
              "      Country Name Country Code  Year          Value\n",
              "0       Arab World          ARB  1968 25760683041.09\n",
              "1       Arab World          ARB  1969 28434203615.48\n",
              "2       Arab World          ARB  1970 31385499664.07\n",
              "3       Arab World          ARB  1971 36426909888.39\n",
              "4       Arab World          ARB  1972 43316056615.46\n",
              "...            ...          ...   ...            ...\n",
              "11502     Zimbabwe          ZWE  2012 14242490252.43\n",
              "11503     Zimbabwe          ZWE  2013 15451768658.55\n",
              "11504     Zimbabwe          ZWE  2014 15891049235.99\n",
              "11505     Zimbabwe          ZWE  2015 16304667807.07\n",
              "11506     Zimbabwe          ZWE  2016 16619960401.90\n",
              "\n",
              "[11507 rows x 4 columns]"
            ]
          },
          "metadata": {
            "tags": []
          },
          "execution_count": 16
        }
      ]
    },
    {
      "cell_type": "markdown",
      "metadata": {
        "id": "-srSgzb4T9kx"
      },
      "source": [
        "特徴量生成に使う関数"
      ]
    },
    {
      "cell_type": "code",
      "metadata": {
        "id": "oz7Fgh_muwsq"
      },
      "source": [
        "#合計光量を求める関数\n",
        "def sumlight(u, counts):\n",
        "  i=0\n",
        "  A=0\n",
        "  for i in range(len(u)):\n",
        "    A = A + u[i]*counts[i]\n",
        "    i = i + 1\n",
        "    \n",
        "  return A "
      ],
      "execution_count": 17,
      "outputs": []
    },
    {
      "cell_type": "code",
      "metadata": {
        "id": "Ur2VuXgqvK85"
      },
      "source": [
        "#平均光量を求める関数\n",
        "def meanlight(sumlight,len):\n",
        "  mean = sumlight/len\n",
        "\n",
        "  return mean"
      ],
      "execution_count": 18,
      "outputs": []
    },
    {
      "cell_type": "code",
      "metadata": {
        "id": "o5kgbmzlvNCt"
      },
      "source": [
        "#光量0を取り除くl関数\n",
        "def delete_0(u, count):\n",
        "  u_delete=np.delete(u, np.where(u == 0))\n",
        "  counts_delete = np.delete(count, np.where(u == 0))\n",
        "\n",
        "  return u_delete, counts_delete"
      ],
      "execution_count": 19,
      "outputs": []
    },
    {
      "cell_type": "code",
      "metadata": {
        "id": "uxv0i6thvPFi"
      },
      "source": [
        "#光量63をカウントする関数\n",
        "def counts_63(u_delete, counts_delete):\n",
        "  if any(u_delete==63):\n",
        "    where_63 = np.where(u_delete == 63)\n",
        "    sum_63 = counts_delete[where_63]\n",
        "  else : \n",
        "    sum_63 = 0\n",
        "\n",
        "  return sum_63"
      ],
      "execution_count": 20,
      "outputs": []
    },
    {
      "cell_type": "code",
      "metadata": {
        "id": "cNqnGOBjvRNO"
      },
      "source": [
        "#光量の最頻値を求める関数\n",
        "def mode(u_delete, counts_delete):\n",
        "  where_mode = np.where(counts_delete == counts_delete.max())\n",
        "  nightlight_mode = u_delete[where_mode]\n",
        "\n",
        "  return nightlight_mode[0]"
      ],
      "execution_count": 21,
      "outputs": []
    },
    {
      "cell_type": "code",
      "metadata": {
        "id": "ksg0vWDHvTAN"
      },
      "source": [
        "#光量のばらつき(変動係数)を求める関数\n",
        "def variation(counts_delete):\n",
        "  mean = counts_delete.mean()\n",
        "  std = counts_delete.std()\n",
        "  variation = mean / std \n",
        "\n",
        "  return variation"
      ],
      "execution_count": 22,
      "outputs": []
    },
    {
      "cell_type": "code",
      "metadata": {
        "id": "jh3ErjUwvVzJ"
      },
      "source": [
        "#特徴量のcolumns\n",
        "cols = ['country', 'gdp', \"SumLight\", \"MeanLight\", \"Area\", \"Counts_63\", \"Percentage_63\", \"Mode\", \"Variation\"]\n",
        "#空のPandasDataFrame、NightLightを作成(以下のif文で一致する国が202ということが事前にわかったので202行にしています)\n",
        "NightLight = pd.DataFrame(np.zeros([202, 9]), columns=cols)"
      ],
      "execution_count": 23,
      "outputs": []
    },
    {
      "cell_type": "code",
      "metadata": {
        "id": "Cl5E4HV_vYxF"
      },
      "source": [
        "#NightLightを作成\n",
        "i=0\n",
        "j=0\n",
        "for i in range(len(countries[\"ISO_A3\"])):\n",
        "  # gdpの\"\"Country Code\"にcountriesの\"ISO_A3\"が含まれており、かつ２００９年のデータがあるものを抽出\n",
        "  if any(gdp['Country Code'].isin([countries[\"ISO_A3\"][i]])) & (any(gdp[\"Year\"][gdp[\"Country Code\"]==countries[\"ISO_A3\"][i]]==2009)):\n",
        "\n",
        "    #以下NightLightに特徴量となるデータを入れていく\n",
        "\n",
        "    #国名\n",
        "    NightLight[\"country\"][j]= countries[\"ISO_A3\"][i] \n",
        "    #GDP\n",
        "    NightLight[\"gdp\"][j]=gdp[\"Value\"][(gdp[\"Country Code\"]==countries[\"ISO_A3\"][i])&(gdp[\"Year\"]==2009)]\n",
        "\n",
        "   \n",
        "    #データの読み込んで、一次元配列に変換する\n",
        "    A = load_ntl(target_data='F162009', area=countries[\"ISO_A3\"][i]).reshape(-1)\n",
        "    #0~63段階の光量を表したu、　それぞれの光量をカウントしたcounts\n",
        "    u, counts = np.unique(A, return_counts=True)\n",
        "\n",
        "    #光量0の部分を取り除く\n",
        "    u_delete, counts_delete = delete_0(u, counts)\n",
        "\n",
        "    #合計光量\n",
        "    NightLight[\"SumLight\"][j] = sumlight(u_delete, counts_delete)\n",
        "    #平均光量\n",
        "    NightLight[\"MeanLight\"][j] = meanlight(sumlight(u_delete, counts_delete), counts_delete.sum())\n",
        "    #面積(1~63までの光量を発しているエリアの合計）\n",
        "    NightLight[\"Area\"][j] = counts_delete.sum()\n",
        "    #光量63の合計\n",
        "    NightLight[\"Counts_63\"][j] = counts_63(u_delete, counts_delete)\n",
        "    #光量63の割合\n",
        "    NightLight[\"Percentage_63\"][j] = NightLight[\"Counts_63\"][j] / NightLight[\"Area\"][j]\n",
        "    #光量の最頻値を求める関数\n",
        "    NightLight[\"Mode\"][j] = mode(u_delete, counts_delete)\n",
        "    #光量のばらつき(変動係数)\n",
        "    NightLight[\"Variation\"][j] = variation(counts_delete)\n",
        "\n",
        "\n",
        "    j = j + 1"
      ],
      "execution_count": 24,
      "outputs": []
    },
    {
      "cell_type": "code",
      "metadata": {
        "colab": {
          "base_uri": "https://localhost:8080/",
          "height": 391
        },
        "id": "83Aw7svcvhYO",
        "outputId": "2f2fa96f-2bef-4eb9-b00d-92355d12a650"
      },
      "source": [
        "#中身の確認\n",
        "NightLight"
      ],
      "execution_count": 25,
      "outputs": [
        {
          "output_type": "execute_result",
          "data": {
            "text/html": [
              "<div>\n",
              "<style scoped>\n",
              "    .dataframe tbody tr th:only-of-type {\n",
              "        vertical-align: middle;\n",
              "    }\n",
              "\n",
              "    .dataframe tbody tr th {\n",
              "        vertical-align: top;\n",
              "    }\n",
              "\n",
              "    .dataframe thead th {\n",
              "        text-align: right;\n",
              "    }\n",
              "</style>\n",
              "<table border=\"1\" class=\"dataframe\">\n",
              "  <thead>\n",
              "    <tr style=\"text-align: right;\">\n",
              "      <th></th>\n",
              "      <th>country</th>\n",
              "      <th>gdp</th>\n",
              "      <th>SumLight</th>\n",
              "      <th>MeanLight</th>\n",
              "      <th>Area</th>\n",
              "      <th>Counts_63</th>\n",
              "      <th>Percentage_63</th>\n",
              "      <th>Mode</th>\n",
              "      <th>Variation</th>\n",
              "    </tr>\n",
              "  </thead>\n",
              "  <tbody>\n",
              "    <tr>\n",
              "      <th>0</th>\n",
              "      <td>ABW</td>\n",
              "      <td>2498932960.89</td>\n",
              "      <td>6623.00</td>\n",
              "      <td>33.12</td>\n",
              "      <td>200.00</td>\n",
              "      <td>16.00</td>\n",
              "      <td>0.08</td>\n",
              "      <td>63.00</td>\n",
              "      <td>1.33</td>\n",
              "    </tr>\n",
              "    <tr>\n",
              "      <th>1</th>\n",
              "      <td>AFG</td>\n",
              "      <td>12486943505.74</td>\n",
              "      <td>96733.00</td>\n",
              "      <td>9.61</td>\n",
              "      <td>10063.00</td>\n",
              "      <td>0.00</td>\n",
              "      <td>0.00</td>\n",
              "      <td>4.00</td>\n",
              "      <td>0.35</td>\n",
              "    </tr>\n",
              "    <tr>\n",
              "      <th>2</th>\n",
              "      <td>AGO</td>\n",
              "      <td>75492384801.37</td>\n",
              "      <td>160713.00</td>\n",
              "      <td>12.97</td>\n",
              "      <td>12391.00</td>\n",
              "      <td>297.00</td>\n",
              "      <td>0.02</td>\n",
              "      <td>5.00</td>\n",
              "      <td>0.48</td>\n",
              "    </tr>\n",
              "    <tr>\n",
              "      <th>3</th>\n",
              "      <td>ALB</td>\n",
              "      <td>12044212903.82</td>\n",
              "      <td>103545.00</td>\n",
              "      <td>7.91</td>\n",
              "      <td>13084.00</td>\n",
              "      <td>0.00</td>\n",
              "      <td>0.00</td>\n",
              "      <td>4.00</td>\n",
              "      <td>0.31</td>\n",
              "    </tr>\n",
              "    <tr>\n",
              "      <th>4</th>\n",
              "      <td>AND</td>\n",
              "      <td>3660530702.97</td>\n",
              "      <td>16499.00</td>\n",
              "      <td>24.52</td>\n",
              "      <td>673.00</td>\n",
              "      <td>0.00</td>\n",
              "      <td>0.00</td>\n",
              "      <td>6.00</td>\n",
              "      <td>1.50</td>\n",
              "    </tr>\n",
              "    <tr>\n",
              "      <th>...</th>\n",
              "      <td>...</td>\n",
              "      <td>...</td>\n",
              "      <td>...</td>\n",
              "      <td>...</td>\n",
              "      <td>...</td>\n",
              "      <td>...</td>\n",
              "      <td>...</td>\n",
              "      <td>...</td>\n",
              "      <td>...</td>\n",
              "    </tr>\n",
              "    <tr>\n",
              "      <th>197</th>\n",
              "      <td>WSM</td>\n",
              "      <td>560959527.82</td>\n",
              "      <td>1852.00</td>\n",
              "      <td>5.02</td>\n",
              "      <td>369.00</td>\n",
              "      <td>0.00</td>\n",
              "      <td>0.00</td>\n",
              "      <td>3.00</td>\n",
              "      <td>0.39</td>\n",
              "    </tr>\n",
              "    <tr>\n",
              "      <th>198</th>\n",
              "      <td>YEM</td>\n",
              "      <td>25130274124.25</td>\n",
              "      <td>387100.00</td>\n",
              "      <td>8.93</td>\n",
              "      <td>43372.00</td>\n",
              "      <td>190.00</td>\n",
              "      <td>0.00</td>\n",
              "      <td>4.00</td>\n",
              "      <td>0.31</td>\n",
              "    </tr>\n",
              "    <tr>\n",
              "      <th>199</th>\n",
              "      <td>ZAF</td>\n",
              "      <td>297216730668.94</td>\n",
              "      <td>2242424.00</td>\n",
              "      <td>10.79</td>\n",
              "      <td>207909.00</td>\n",
              "      <td>3217.00</td>\n",
              "      <td>0.02</td>\n",
              "      <td>4.00</td>\n",
              "      <td>0.42</td>\n",
              "    </tr>\n",
              "    <tr>\n",
              "      <th>200</th>\n",
              "      <td>ZMB</td>\n",
              "      <td>15328342303.96</td>\n",
              "      <td>106460.00</td>\n",
              "      <td>12.99</td>\n",
              "      <td>8198.00</td>\n",
              "      <td>102.00</td>\n",
              "      <td>0.01</td>\n",
              "      <td>6.00</td>\n",
              "      <td>0.49</td>\n",
              "    </tr>\n",
              "    <tr>\n",
              "      <th>201</th>\n",
              "      <td>ZWE</td>\n",
              "      <td>8621573608.35</td>\n",
              "      <td>82001.00</td>\n",
              "      <td>10.15</td>\n",
              "      <td>8080.00</td>\n",
              "      <td>0.00</td>\n",
              "      <td>0.00</td>\n",
              "      <td>4.00</td>\n",
              "      <td>0.46</td>\n",
              "    </tr>\n",
              "  </tbody>\n",
              "</table>\n",
              "<p>202 rows × 9 columns</p>\n",
              "</div>"
            ],
            "text/plain": [
              "    country             gdp   SumLight  ...  Percentage_63  Mode  Variation\n",
              "0       ABW   2498932960.89    6623.00  ...           0.08 63.00       1.33\n",
              "1       AFG  12486943505.74   96733.00  ...           0.00  4.00       0.35\n",
              "2       AGO  75492384801.37  160713.00  ...           0.02  5.00       0.48\n",
              "3       ALB  12044212903.82  103545.00  ...           0.00  4.00       0.31\n",
              "4       AND   3660530702.97   16499.00  ...           0.00  6.00       1.50\n",
              "..      ...             ...        ...  ...            ...   ...        ...\n",
              "197     WSM    560959527.82    1852.00  ...           0.00  3.00       0.39\n",
              "198     YEM  25130274124.25  387100.00  ...           0.00  4.00       0.31\n",
              "199     ZAF 297216730668.94 2242424.00  ...           0.02  4.00       0.42\n",
              "200     ZMB  15328342303.96  106460.00  ...           0.01  6.00       0.49\n",
              "201     ZWE   8621573608.35   82001.00  ...           0.00  4.00       0.46\n",
              "\n",
              "[202 rows x 9 columns]"
            ]
          },
          "metadata": {
            "tags": []
          },
          "execution_count": 25
        }
      ]
    },
    {
      "cell_type": "markdown",
      "metadata": {
        "id": "l_2kg1QBUFkm"
      },
      "source": [
        "各特徴量とGDPの関係可視化"
      ]
    },
    {
      "cell_type": "code",
      "metadata": {
        "colab": {
          "base_uri": "https://localhost:8080/",
          "height": 290
        },
        "id": "EjzF50XIvwWx",
        "outputId": "a9faa561-ad3c-40ca-d028-4a5afee7a204"
      },
      "source": [
        "#SumLight（合計光量）とGDPの関係\n",
        "sns.scatterplot(data=NightLight, x='gdp', y='SumLight')\n",
        "plt.show()"
      ],
      "execution_count": 26,
      "outputs": [
        {
          "output_type": "display_data",
          "data": {
            "image/png": "[encoded data removed]",
            "text/plain": [
              "<Figure size 432x288 with 1 Axes>"
            ]
          },
          "metadata": {
            "tags": [],
            "needs_background": "light"
          }
        }
      ]
    },
    {
      "cell_type": "code",
      "metadata": {
        "colab": {
          "base_uri": "https://localhost:8080/",
          "height": 278
        },
        "id": "ZQKXsj35wEaE",
        "outputId": "304c248f-940a-4689-cedc-5777a93deb13"
      },
      "source": [
        "#MeanLight（平均光量）とGDPの関係\n",
        "sns.scatterplot(data=NightLight, x='gdp', y='MeanLight')\n",
        "plt.show()"
      ],
      "execution_count": 27,
      "outputs": [
        {
          "output_type": "display_data",
          "data": {
            "image/png": "[encoded data removed]",
            "text/plain": [
              "<Figure size 432x288 with 1 Axes>"
            ]
          },
          "metadata": {
            "tags": [],
            "needs_background": "light"
          }
        }
      ]
    },
    {
      "cell_type": "code",
      "metadata": {
        "colab": {
          "base_uri": "https://localhost:8080/",
          "height": 290
        },
        "id": "cjjcGZ0vwVqK",
        "outputId": "527390e5-ba18-414b-ea44-9c45f5fce297"
      },
      "source": [
        "#Area（面積）　とGDPの関係\n",
        "sns.scatterplot(data=NightLight, x='gdp', y='Area')\n",
        "plt.show()"
      ],
      "execution_count": 28,
      "outputs": [
        {
          "output_type": "display_data",
          "data": {
            "image/png": "[encoded data removed]",
            "text/plain": [
              "<Figure size 432x288 with 1 Axes>"
            ]
          },
          "metadata": {
            "tags": [],
            "needs_background": "light"
          }
        }
      ]
    },
    {
      "cell_type": "code",
      "metadata": {
        "colab": {
          "base_uri": "https://localhost:8080/",
          "height": 280
        },
        "id": "abuvsrobwfTe",
        "outputId": "120dfdad-660e-46f9-b394-855981699e52"
      },
      "source": [
        "#Counts_63（最大光量63の数）　とGDPの関係\n",
        "sns.scatterplot(data=NightLight, x='gdp', y='Counts_63')\n",
        "plt.show()"
      ],
      "execution_count": 29,
      "outputs": [
        {
          "output_type": "display_data",
          "data": {
            "image/png": "[encoded data removed]",
            "text/plain": [
              "<Figure size 432x288 with 1 Axes>"
            ]
          },
          "metadata": {
            "tags": [],
            "needs_background": "light"
          }
        }
      ]
    },
    {
      "cell_type": "code",
      "metadata": {
        "colab": {
          "base_uri": "https://localhost:8080/",
          "height": 278
        },
        "id": "qY5_JgONwiDv",
        "outputId": "0965543f-20cb-4ad3-ca04-c6da8ede42da"
      },
      "source": [
        "#Percentage_63（光量63の割合）　とGDPの関係\n",
        "sns.scatterplot(data=NightLight, x='gdp', y='Percentage_63')\n",
        "plt.show()"
      ],
      "execution_count": 30,
      "outputs": [
        {
          "output_type": "display_data",
          "data": {
            "image/png": "[encoded data removed]",
            "text/plain": [
              "<Figure size 432x288 with 1 Axes>"
            ]
          },
          "metadata": {
            "tags": [],
            "needs_background": "light"
          }
        }
      ]
    },
    {
      "cell_type": "code",
      "metadata": {
        "colab": {
          "base_uri": "https://localhost:8080/",
          "height": 280
        },
        "id": "cAuNcSZqwmYZ",
        "outputId": "3f7e61cf-6fa7-438f-c33d-4364b23514ed"
      },
      "source": [
        "#Variation（国の光量のばらつき(変動係数)）　とGDPの関係\n",
        "sns.scatterplot(data=NightLight, x='gdp', y='Variation')\n",
        "plt.show()"
      ],
      "execution_count": 31,
      "outputs": [
        {
          "output_type": "display_data",
          "data": {
            "image/png": "[encoded data removed]",
            "text/plain": [
              "<Figure size 432x288 with 1 Axes>"
            ]
          },
          "metadata": {
            "tags": [],
            "needs_background": "light"
          }
        }
      ]
    },
    {
      "cell_type": "code",
      "metadata": {
        "colab": {
          "base_uri": "https://localhost:8080/",
          "height": 278
        },
        "id": "u6yryZvAwkE9",
        "outputId": "86175147-ca11-4c42-ba63-00a716faab47"
      },
      "source": [
        "#Mode(光量1~63の中での最頻値)とGDPの関係\n",
        "sns.scatterplot(data=NightLight, x='gdp', y='Mode')\n",
        "plt.show()"
      ],
      "execution_count": 32,
      "outputs": [
        {
          "output_type": "display_data",
          "data": {
            "image/png": "[encoded data removed]",
            "text/plain": [
              "<Figure size 432x288 with 1 Axes>"
            ]
          },
          "metadata": {
            "tags": [],
            "needs_background": "light"
          }
        }
      ]
    },
    {
      "cell_type": "markdown",
      "metadata": {
        "id": "t5gnHJCcU1lb"
      },
      "source": [
        "光量が強い地域を見てみる(Mode順でソート)"
      ]
    },
    {
      "cell_type": "code",
      "metadata": {
        "colab": {
          "base_uri": "https://localhost:8080/",
          "height": 335
        },
        "id": "ZtE17dbBxmyP",
        "outputId": "8e65aefb-0b8a-4481-a648-2b1a76406181"
      },
      "source": [
        "#Modeで降順ソート\n",
        "NightLight.sort_values(\"Mode\", ascending=False).head(10)"
      ],
      "execution_count": 33,
      "outputs": [
        {
          "output_type": "execute_result",
          "data": {
            "text/html": [
              "<div>\n",
              "<style scoped>\n",
              "    .dataframe tbody tr th:only-of-type {\n",
              "        vertical-align: middle;\n",
              "    }\n",
              "\n",
              "    .dataframe tbody tr th {\n",
              "        vertical-align: top;\n",
              "    }\n",
              "\n",
              "    .dataframe thead th {\n",
              "        text-align: right;\n",
              "    }\n",
              "</style>\n",
              "<table border=\"1\" class=\"dataframe\">\n",
              "  <thead>\n",
              "    <tr style=\"text-align: right;\">\n",
              "      <th></th>\n",
              "      <th>country</th>\n",
              "      <th>gdp</th>\n",
              "      <th>SumLight</th>\n",
              "      <th>MeanLight</th>\n",
              "      <th>Area</th>\n",
              "      <th>Counts_63</th>\n",
              "      <th>Percentage_63</th>\n",
              "      <th>Mode</th>\n",
              "      <th>Variation</th>\n",
              "    </tr>\n",
              "  </thead>\n",
              "  <tbody>\n",
              "    <tr>\n",
              "      <th>0</th>\n",
              "      <td>ABW</td>\n",
              "      <td>2498932960.89</td>\n",
              "      <td>6623.00</td>\n",
              "      <td>33.12</td>\n",
              "      <td>200.00</td>\n",
              "      <td>16.00</td>\n",
              "      <td>0.08</td>\n",
              "      <td>63.00</td>\n",
              "      <td>1.33</td>\n",
              "    </tr>\n",
              "    <tr>\n",
              "      <th>113</th>\n",
              "      <td>MAC</td>\n",
              "      <td>21475520709.39</td>\n",
              "      <td>1956.00</td>\n",
              "      <td>57.53</td>\n",
              "      <td>34.00</td>\n",
              "      <td>11.00</td>\n",
              "      <td>0.32</td>\n",
              "      <td>63.00</td>\n",
              "      <td>0.90</td>\n",
              "    </tr>\n",
              "    <tr>\n",
              "      <th>77</th>\n",
              "      <td>HKG</td>\n",
              "      <td>214046415026.19</td>\n",
              "      <td>56262.00</td>\n",
              "      <td>42.88</td>\n",
              "      <td>1312.00</td>\n",
              "      <td>128.00</td>\n",
              "      <td>0.10</td>\n",
              "      <td>63.00</td>\n",
              "      <td>0.97</td>\n",
              "    </tr>\n",
              "    <tr>\n",
              "      <th>19</th>\n",
              "      <td>BHR</td>\n",
              "      <td>22938218085.11</td>\n",
              "      <td>37561.00</td>\n",
              "      <td>49.16</td>\n",
              "      <td>764.00</td>\n",
              "      <td>390.00</td>\n",
              "      <td>0.51</td>\n",
              "      <td>63.00</td>\n",
              "      <td>0.26</td>\n",
              "    </tr>\n",
              "    <tr>\n",
              "      <th>150</th>\n",
              "      <td>PRI</td>\n",
              "      <td>96385638000.00</td>\n",
              "      <td>316596.00</td>\n",
              "      <td>28.99</td>\n",
              "      <td>10919.00</td>\n",
              "      <td>477.00</td>\n",
              "      <td>0.04</td>\n",
              "      <td>63.00</td>\n",
              "      <td>1.87</td>\n",
              "    </tr>\n",
              "    <tr>\n",
              "      <th>162</th>\n",
              "      <td>SGP</td>\n",
              "      <td>192408387762.12</td>\n",
              "      <td>37193.00</td>\n",
              "      <td>62.51</td>\n",
              "      <td>595.00</td>\n",
              "      <td>513.00</td>\n",
              "      <td>0.86</td>\n",
              "      <td>63.00</td>\n",
              "      <td>0.32</td>\n",
              "    </tr>\n",
              "    <tr>\n",
              "      <th>123</th>\n",
              "      <td>MLT</td>\n",
              "      <td>8528202278.41</td>\n",
              "      <td>21889.00</td>\n",
              "      <td>46.87</td>\n",
              "      <td>467.00</td>\n",
              "      <td>65.00</td>\n",
              "      <td>0.14</td>\n",
              "      <td>63.00</td>\n",
              "      <td>0.85</td>\n",
              "    </tr>\n",
              "    <tr>\n",
              "      <th>115</th>\n",
              "      <td>MCO</td>\n",
              "      <td>5557245122.32</td>\n",
              "      <td>1715.00</td>\n",
              "      <td>57.17</td>\n",
              "      <td>30.00</td>\n",
              "      <td>0.00</td>\n",
              "      <td>0.00</td>\n",
              "      <td>60.00</td>\n",
              "      <td>1.15</td>\n",
              "    </tr>\n",
              "    <tr>\n",
              "      <th>166</th>\n",
              "      <td>SMR</td>\n",
              "      <td>2363156432.34</td>\n",
              "      <td>4037.00</td>\n",
              "      <td>42.49</td>\n",
              "      <td>95.00</td>\n",
              "      <td>0.00</td>\n",
              "      <td>0.00</td>\n",
              "      <td>43.00</td>\n",
              "      <td>1.58</td>\n",
              "    </tr>\n",
              "    <tr>\n",
              "      <th>24</th>\n",
              "      <td>BMU</td>\n",
              "      <td>5806378000.00</td>\n",
              "      <td>3255.00</td>\n",
              "      <td>35.38</td>\n",
              "      <td>92.00</td>\n",
              "      <td>1.00</td>\n",
              "      <td>0.01</td>\n",
              "      <td>21.00</td>\n",
              "      <td>1.77</td>\n",
              "    </tr>\n",
              "  </tbody>\n",
              "</table>\n",
              "</div>"
            ],
            "text/plain": [
              "    country             gdp  SumLight  ...  Percentage_63  Mode  Variation\n",
              "0       ABW   2498932960.89   6623.00  ...           0.08 63.00       1.33\n",
              "113     MAC  21475520709.39   1956.00  ...           0.32 63.00       0.90\n",
              "77      HKG 214046415026.19  56262.00  ...           0.10 63.00       0.97\n",
              "19      BHR  22938218085.11  37561.00  ...           0.51 63.00       0.26\n",
              "150     PRI  96385638000.00 316596.00  ...           0.04 63.00       1.87\n",
              "162     SGP 192408387762.12  37193.00  ...           0.86 63.00       0.32\n",
              "123     MLT   8528202278.41  21889.00  ...           0.14 63.00       0.85\n",
              "115     MCO   5557245122.32   1715.00  ...           0.00 60.00       1.15\n",
              "166     SMR   2363156432.34   4037.00  ...           0.00 43.00       1.58\n",
              "24      BMU   5806378000.00   3255.00  ...           0.01 21.00       1.77\n",
              "\n",
              "[10 rows x 9 columns]"
            ]
          },
          "metadata": {
            "tags": []
          },
          "execution_count": 33
        }
      ]
    },
    {
      "cell_type": "code",
      "metadata": {
        "colab": {
          "base_uri": "https://localhost:8080/",
          "height": 320
        },
        "id": "ZpwtOfowcn5_",
        "outputId": "ee4982b0-2121-44c4-ff13-dc4bb651bf7b"
      },
      "source": [
        "#シンガポールの夜間光画像\n",
        "SGP_2009 = load_ntl(target_data='F162009', area='SGP')\n",
        "\n",
        "show(SGP_2009)"
      ],
      "execution_count": 34,
      "outputs": [
        {
          "output_type": "display_data",
          "data": {
            "image/png": "[encoded data removed]",
            "text/plain": [
              "<Figure size 1080x360 with 2 Axes>"
            ]
          },
          "metadata": {
            "tags": [],
            "needs_background": "light"
          }
        }
      ]
    },
    {
      "cell_type": "markdown",
      "metadata": {
        "id": "nHeRYitRVFUZ"
      },
      "source": [
        "GDPの外れ値（第一四分位数ー1.5×四分位範囲以下 or 第三四分位数＋1.5×四分位範囲以上）を取る国をデータから削除"
      ]
    },
    {
      "cell_type": "code",
      "metadata": {
        "colab": {
          "base_uri": "https://localhost:8080/",
          "height": 391
        },
        "id": "jSHNZTT1yAun",
        "outputId": "6b4c6d5e-f9dc-41d9-dfb7-8811804e2d15"
      },
      "source": [
        "#GDPの外れ値を取る国をNightLightから削除\n",
        "q1= NightLight[\"gdp\"].quantile(0.25)\n",
        "q2= NightLight[\"gdp\"].quantile(0.75)\n",
        "iqr=q2-q1\n",
        "\n",
        "\n",
        "max= q2 + 1.5*(iqr) #範囲指定max\n",
        "min= q1 - 1.5*(iqr) #範囲指定min\n",
        "NightLight = NightLight[(NightLight[\"gdp\"]> min) & (NightLight[\"gdp\"] < max)]\n",
        "NightLight"
      ],
      "execution_count": 35,
      "outputs": [
        {
          "output_type": "execute_result",
          "data": {
            "text/html": [
              "<div>\n",
              "<style scoped>\n",
              "    .dataframe tbody tr th:only-of-type {\n",
              "        vertical-align: middle;\n",
              "    }\n",
              "\n",
              "    .dataframe tbody tr th {\n",
              "        vertical-align: top;\n",
              "    }\n",
              "\n",
              "    .dataframe thead th {\n",
              "        text-align: right;\n",
              "    }\n",
              "</style>\n",
              "<table border=\"1\" class=\"dataframe\">\n",
              "  <thead>\n",
              "    <tr style=\"text-align: right;\">\n",
              "      <th></th>\n",
              "      <th>country</th>\n",
              "      <th>gdp</th>\n",
              "      <th>SumLight</th>\n",
              "      <th>MeanLight</th>\n",
              "      <th>Area</th>\n",
              "      <th>Counts_63</th>\n",
              "      <th>Percentage_63</th>\n",
              "      <th>Mode</th>\n",
              "      <th>Variation</th>\n",
              "    </tr>\n",
              "  </thead>\n",
              "  <tbody>\n",
              "    <tr>\n",
              "      <th>0</th>\n",
              "      <td>ABW</td>\n",
              "      <td>2498932960.89</td>\n",
              "      <td>6623.00</td>\n",
              "      <td>33.12</td>\n",
              "      <td>200.00</td>\n",
              "      <td>16.00</td>\n",
              "      <td>0.08</td>\n",
              "      <td>63.00</td>\n",
              "      <td>1.33</td>\n",
              "    </tr>\n",
              "    <tr>\n",
              "      <th>1</th>\n",
              "      <td>AFG</td>\n",
              "      <td>12486943505.74</td>\n",
              "      <td>96733.00</td>\n",
              "      <td>9.61</td>\n",
              "      <td>10063.00</td>\n",
              "      <td>0.00</td>\n",
              "      <td>0.00</td>\n",
              "      <td>4.00</td>\n",
              "      <td>0.35</td>\n",
              "    </tr>\n",
              "    <tr>\n",
              "      <th>2</th>\n",
              "      <td>AGO</td>\n",
              "      <td>75492384801.37</td>\n",
              "      <td>160713.00</td>\n",
              "      <td>12.97</td>\n",
              "      <td>12391.00</td>\n",
              "      <td>297.00</td>\n",
              "      <td>0.02</td>\n",
              "      <td>5.00</td>\n",
              "      <td>0.48</td>\n",
              "    </tr>\n",
              "    <tr>\n",
              "      <th>3</th>\n",
              "      <td>ALB</td>\n",
              "      <td>12044212903.82</td>\n",
              "      <td>103545.00</td>\n",
              "      <td>7.91</td>\n",
              "      <td>13084.00</td>\n",
              "      <td>0.00</td>\n",
              "      <td>0.00</td>\n",
              "      <td>4.00</td>\n",
              "      <td>0.31</td>\n",
              "    </tr>\n",
              "    <tr>\n",
              "      <th>4</th>\n",
              "      <td>AND</td>\n",
              "      <td>3660530702.97</td>\n",
              "      <td>16499.00</td>\n",
              "      <td>24.52</td>\n",
              "      <td>673.00</td>\n",
              "      <td>0.00</td>\n",
              "      <td>0.00</td>\n",
              "      <td>6.00</td>\n",
              "      <td>1.50</td>\n",
              "    </tr>\n",
              "    <tr>\n",
              "      <th>...</th>\n",
              "      <td>...</td>\n",
              "      <td>...</td>\n",
              "      <td>...</td>\n",
              "      <td>...</td>\n",
              "      <td>...</td>\n",
              "      <td>...</td>\n",
              "      <td>...</td>\n",
              "      <td>...</td>\n",
              "      <td>...</td>\n",
              "    </tr>\n",
              "    <tr>\n",
              "      <th>196</th>\n",
              "      <td>VUT</td>\n",
              "      <td>610066628.69</td>\n",
              "      <td>4247.00</td>\n",
              "      <td>10.09</td>\n",
              "      <td>421.00</td>\n",
              "      <td>0.00</td>\n",
              "      <td>0.00</td>\n",
              "      <td>4.00</td>\n",
              "      <td>0.65</td>\n",
              "    </tr>\n",
              "    <tr>\n",
              "      <th>197</th>\n",
              "      <td>WSM</td>\n",
              "      <td>560959527.82</td>\n",
              "      <td>1852.00</td>\n",
              "      <td>5.02</td>\n",
              "      <td>369.00</td>\n",
              "      <td>0.00</td>\n",
              "      <td>0.00</td>\n",
              "      <td>3.00</td>\n",
              "      <td>0.39</td>\n",
              "    </tr>\n",
              "    <tr>\n",
              "      <th>198</th>\n",
              "      <td>YEM</td>\n",
              "      <td>25130274124.25</td>\n",
              "      <td>387100.00</td>\n",
              "      <td>8.93</td>\n",
              "      <td>43372.00</td>\n",
              "      <td>190.00</td>\n",
              "      <td>0.00</td>\n",
              "      <td>4.00</td>\n",
              "      <td>0.31</td>\n",
              "    </tr>\n",
              "    <tr>\n",
              "      <th>200</th>\n",
              "      <td>ZMB</td>\n",
              "      <td>15328342303.96</td>\n",
              "      <td>106460.00</td>\n",
              "      <td>12.99</td>\n",
              "      <td>8198.00</td>\n",
              "      <td>102.00</td>\n",
              "      <td>0.01</td>\n",
              "      <td>6.00</td>\n",
              "      <td>0.49</td>\n",
              "    </tr>\n",
              "    <tr>\n",
              "      <th>201</th>\n",
              "      <td>ZWE</td>\n",
              "      <td>8621573608.35</td>\n",
              "      <td>82001.00</td>\n",
              "      <td>10.15</td>\n",
              "      <td>8080.00</td>\n",
              "      <td>0.00</td>\n",
              "      <td>0.00</td>\n",
              "      <td>4.00</td>\n",
              "      <td>0.46</td>\n",
              "    </tr>\n",
              "  </tbody>\n",
              "</table>\n",
              "<p>171 rows × 9 columns</p>\n",
              "</div>"
            ],
            "text/plain": [
              "    country            gdp  SumLight  ...  Percentage_63  Mode  Variation\n",
              "0       ABW  2498932960.89   6623.00  ...           0.08 63.00       1.33\n",
              "1       AFG 12486943505.74  96733.00  ...           0.00  4.00       0.35\n",
              "2       AGO 75492384801.37 160713.00  ...           0.02  5.00       0.48\n",
              "3       ALB 12044212903.82 103545.00  ...           0.00  4.00       0.31\n",
              "4       AND  3660530702.97  16499.00  ...           0.00  6.00       1.50\n",
              "..      ...            ...       ...  ...            ...   ...        ...\n",
              "196     VUT   610066628.69   4247.00  ...           0.00  4.00       0.65\n",
              "197     WSM   560959527.82   1852.00  ...           0.00  3.00       0.39\n",
              "198     YEM 25130274124.25 387100.00  ...           0.00  4.00       0.31\n",
              "200     ZMB 15328342303.96 106460.00  ...           0.01  6.00       0.49\n",
              "201     ZWE  8621573608.35  82001.00  ...           0.00  4.00       0.46\n",
              "\n",
              "[171 rows x 9 columns]"
            ]
          },
          "metadata": {
            "tags": []
          },
          "execution_count": 35
        }
      ]
    },
    {
      "cell_type": "markdown",
      "metadata": {
        "id": "Mpix0BL0VZom"
      },
      "source": [
        "目的変数と説明変数に分離"
      ]
    },
    {
      "cell_type": "code",
      "metadata": {
        "id": "-3D3cEi4y_uL"
      },
      "source": [
        "#Objective（目的変数）とExplanatory（説明変数）の分離\n",
        "Objective = NightLight[[\"SumLight\",\"MeanLight\",\"Area\",\"Counts_63\",\"Percentage_63\",\"Mode\",\"Variation\"]]\n",
        "Explanatory = NightLight[[\"gdp\"]]"
      ],
      "execution_count": 36,
      "outputs": []
    },
    {
      "cell_type": "markdown",
      "metadata": {
        "id": "51t5FvlbVjQR"
      },
      "source": [
        "学習データと検証データに分ける"
      ]
    },
    {
      "cell_type": "code",
      "metadata": {
        "id": "xH9N8PXUzQID"
      },
      "source": [
        "#学習データと検証データに分ける(学習データ128個、検証データ43個)\n",
        "train_x, valid_x, train_y, valid_y = train_test_split(Objective, Explanatory, test_size=0.25, random_state=42, shuffle=True)"
      ],
      "execution_count": 37,
      "outputs": []
    },
    {
      "cell_type": "code",
      "metadata": {
        "colab": {
          "base_uri": "https://localhost:8080/",
          "height": 391
        },
        "id": "5oF54Mwy0ESz",
        "outputId": "b36b9a9d-26bf-40cc-e6be-665edc342ffa"
      },
      "source": [
        "#中身を確認\n",
        "train_x"
      ],
      "execution_count": 38,
      "outputs": [
        {
          "output_type": "execute_result",
          "data": {
            "text/html": [
              "<div>\n",
              "<style scoped>\n",
              "    .dataframe tbody tr th:only-of-type {\n",
              "        vertical-align: middle;\n",
              "    }\n",
              "\n",
              "    .dataframe tbody tr th {\n",
              "        vertical-align: top;\n",
              "    }\n",
              "\n",
              "    .dataframe thead th {\n",
              "        text-align: right;\n",
              "    }\n",
              "</style>\n",
              "<table border=\"1\" class=\"dataframe\">\n",
              "  <thead>\n",
              "    <tr style=\"text-align: right;\">\n",
              "      <th></th>\n",
              "      <th>SumLight</th>\n",
              "      <th>MeanLight</th>\n",
              "      <th>Area</th>\n",
              "      <th>Counts_63</th>\n",
              "      <th>Percentage_63</th>\n",
              "      <th>Mode</th>\n",
              "      <th>Variation</th>\n",
              "    </tr>\n",
              "  </thead>\n",
              "  <tbody>\n",
              "    <tr>\n",
              "      <th>171</th>\n",
              "      <td>288508.00</td>\n",
              "      <td>12.27</td>\n",
              "      <td>23521.00</td>\n",
              "      <td>45.00</td>\n",
              "      <td>0.00</td>\n",
              "      <td>6.00</td>\n",
              "      <td>0.54</td>\n",
              "    </tr>\n",
              "    <tr>\n",
              "      <th>31</th>\n",
              "      <td>3406.00</td>\n",
              "      <td>8.41</td>\n",
              "      <td>405.00</td>\n",
              "      <td>0.00</td>\n",
              "      <td>0.00</td>\n",
              "      <td>5.00</td>\n",
              "      <td>0.46</td>\n",
              "    </tr>\n",
              "    <tr>\n",
              "      <th>174</th>\n",
              "      <td>2870.00</td>\n",
              "      <td>10.32</td>\n",
              "      <td>278.00</td>\n",
              "      <td>0.00</td>\n",
              "      <td>0.00</td>\n",
              "      <td>7.00</td>\n",
              "      <td>0.68</td>\n",
              "    </tr>\n",
              "    <tr>\n",
              "      <th>179</th>\n",
              "      <td>422933.00</td>\n",
              "      <td>10.37</td>\n",
              "      <td>40798.00</td>\n",
              "      <td>184.00</td>\n",
              "      <td>0.00</td>\n",
              "      <td>4.00</td>\n",
              "      <td>0.40</td>\n",
              "    </tr>\n",
              "    <tr>\n",
              "      <th>187</th>\n",
              "      <td>31579.00</td>\n",
              "      <td>11.98</td>\n",
              "      <td>2635.00</td>\n",
              "      <td>4.00</td>\n",
              "      <td>0.00</td>\n",
              "      <td>5.00</td>\n",
              "      <td>0.43</td>\n",
              "    </tr>\n",
              "    <tr>\n",
              "      <th>...</th>\n",
              "      <td>...</td>\n",
              "      <td>...</td>\n",
              "      <td>...</td>\n",
              "      <td>...</td>\n",
              "      <td>...</td>\n",
              "      <td>...</td>\n",
              "      <td>...</td>\n",
              "    </tr>\n",
              "    <tr>\n",
              "      <th>88</th>\n",
              "      <td>126592.00</td>\n",
              "      <td>15.97</td>\n",
              "      <td>7927.00</td>\n",
              "      <td>73.00</td>\n",
              "      <td>0.01</td>\n",
              "      <td>6.00</td>\n",
              "      <td>0.68</td>\n",
              "    </tr>\n",
              "    <tr>\n",
              "      <th>127</th>\n",
              "      <td>4295.00</td>\n",
              "      <td>14.04</td>\n",
              "      <td>306.00</td>\n",
              "      <td>0.00</td>\n",
              "      <td>0.00</td>\n",
              "      <td>4.00</td>\n",
              "      <td>0.88</td>\n",
              "    </tr>\n",
              "    <tr>\n",
              "      <th>18</th>\n",
              "      <td>603350.00</td>\n",
              "      <td>7.34</td>\n",
              "      <td>82152.00</td>\n",
              "      <td>36.00</td>\n",
              "      <td>0.00</td>\n",
              "      <td>4.00</td>\n",
              "      <td>0.30</td>\n",
              "    </tr>\n",
              "    <tr>\n",
              "      <th>112</th>\n",
              "      <td>200577.00</td>\n",
              "      <td>10.81</td>\n",
              "      <td>18554.00</td>\n",
              "      <td>13.00</td>\n",
              "      <td>0.00</td>\n",
              "      <td>5.00</td>\n",
              "      <td>0.40</td>\n",
              "    </tr>\n",
              "    <tr>\n",
              "      <th>123</th>\n",
              "      <td>21889.00</td>\n",
              "      <td>46.87</td>\n",
              "      <td>467.00</td>\n",
              "      <td>65.00</td>\n",
              "      <td>0.14</td>\n",
              "      <td>63.00</td>\n",
              "      <td>0.85</td>\n",
              "    </tr>\n",
              "  </tbody>\n",
              "</table>\n",
              "<p>128 rows × 7 columns</p>\n",
              "</div>"
            ],
            "text/plain": [
              "     SumLight  MeanLight     Area  Counts_63  Percentage_63  Mode  Variation\n",
              "171 288508.00      12.27 23521.00      45.00           0.00  6.00       0.54\n",
              "31    3406.00       8.41   405.00       0.00           0.00  5.00       0.46\n",
              "174   2870.00      10.32   278.00       0.00           0.00  7.00       0.68\n",
              "179 422933.00      10.37 40798.00     184.00           0.00  4.00       0.40\n",
              "187  31579.00      11.98  2635.00       4.00           0.00  5.00       0.43\n",
              "..        ...        ...      ...        ...            ...   ...        ...\n",
              "88  126592.00      15.97  7927.00      73.00           0.01  6.00       0.68\n",
              "127   4295.00      14.04   306.00       0.00           0.00  4.00       0.88\n",
              "18  603350.00       7.34 82152.00      36.00           0.00  4.00       0.30\n",
              "112 200577.00      10.81 18554.00      13.00           0.00  5.00       0.40\n",
              "123  21889.00      46.87   467.00      65.00           0.14 63.00       0.85\n",
              "\n",
              "[128 rows x 7 columns]"
            ]
          },
          "metadata": {
            "tags": []
          },
          "execution_count": 38
        }
      ]
    },
    {
      "cell_type": "code",
      "metadata": {
        "id": "GS8ul8uRW9A8",
        "colab": {
          "base_uri": "https://localhost:8080/",
          "height": 1000
        },
        "outputId": "5cdc7e21-a3ae-4ab8-8c19-54db39bcd743"
      },
      "source": [
        "#中身を確認\n",
        "valid_x"
      ],
      "execution_count": 39,
      "outputs": [
        {
          "output_type": "execute_result",
          "data": {
            "text/html": [
              "<div>\n",
              "<style scoped>\n",
              "    .dataframe tbody tr th:only-of-type {\n",
              "        vertical-align: middle;\n",
              "    }\n",
              "\n",
              "    .dataframe tbody tr th {\n",
              "        vertical-align: top;\n",
              "    }\n",
              "\n",
              "    .dataframe thead th {\n",
              "        text-align: right;\n",
              "    }\n",
              "</style>\n",
              "<table border=\"1\" class=\"dataframe\">\n",
              "  <thead>\n",
              "    <tr style=\"text-align: right;\">\n",
              "      <th></th>\n",
              "      <th>SumLight</th>\n",
              "      <th>MeanLight</th>\n",
              "      <th>Area</th>\n",
              "      <th>Counts_63</th>\n",
              "      <th>Percentage_63</th>\n",
              "      <th>Mode</th>\n",
              "      <th>Variation</th>\n",
              "    </tr>\n",
              "  </thead>\n",
              "  <tbody>\n",
              "    <tr>\n",
              "      <th>122</th>\n",
              "      <td>40965.00</td>\n",
              "      <td>12.70</td>\n",
              "      <td>3225.00</td>\n",
              "      <td>43.00</td>\n",
              "      <td>0.01</td>\n",
              "      <td>5.00</td>\n",
              "      <td>0.52</td>\n",
              "    </tr>\n",
              "    <tr>\n",
              "      <th>68</th>\n",
              "      <td>8533.00</td>\n",
              "      <td>14.25</td>\n",
              "      <td>599.00</td>\n",
              "      <td>1.00</td>\n",
              "      <td>0.00</td>\n",
              "      <td>5.00</td>\n",
              "      <td>0.53</td>\n",
              "    </tr>\n",
              "    <tr>\n",
              "      <th>69</th>\n",
              "      <td>1570.00</td>\n",
              "      <td>10.90</td>\n",
              "      <td>144.00</td>\n",
              "      <td>0.00</td>\n",
              "      <td>0.00</td>\n",
              "      <td>5.00</td>\n",
              "      <td>0.75</td>\n",
              "    </tr>\n",
              "    <tr>\n",
              "      <th>165</th>\n",
              "      <td>141885.00</td>\n",
              "      <td>8.94</td>\n",
              "      <td>15872.00</td>\n",
              "      <td>78.00</td>\n",
              "      <td>0.00</td>\n",
              "      <td>4.00</td>\n",
              "      <td>0.35</td>\n",
              "    </tr>\n",
              "    <tr>\n",
              "      <th>185</th>\n",
              "      <td>22.00</td>\n",
              "      <td>3.67</td>\n",
              "      <td>6.00</td>\n",
              "      <td>0.00</td>\n",
              "      <td>0.00</td>\n",
              "      <td>4.00</td>\n",
              "      <td>3.00</td>\n",
              "    </tr>\n",
              "    <tr>\n",
              "      <th>97</th>\n",
              "      <td>18948.00</td>\n",
              "      <td>26.99</td>\n",
              "      <td>702.00</td>\n",
              "      <td>22.00</td>\n",
              "      <td>0.03</td>\n",
              "      <td>17.00</td>\n",
              "      <td>1.52</td>\n",
              "    </tr>\n",
              "    <tr>\n",
              "      <th>161</th>\n",
              "      <td>59763.00</td>\n",
              "      <td>10.02</td>\n",
              "      <td>5962.00</td>\n",
              "      <td>56.00</td>\n",
              "      <td>0.01</td>\n",
              "      <td>4.00</td>\n",
              "      <td>0.33</td>\n",
              "    </tr>\n",
              "    <tr>\n",
              "      <th>125</th>\n",
              "      <td>49049.00</td>\n",
              "      <td>11.66</td>\n",
              "      <td>4207.00</td>\n",
              "      <td>0.00</td>\n",
              "      <td>0.00</td>\n",
              "      <td>5.00</td>\n",
              "      <td>0.53</td>\n",
              "    </tr>\n",
              "    <tr>\n",
              "      <th>130</th>\n",
              "      <td>35774.00</td>\n",
              "      <td>14.37</td>\n",
              "      <td>2490.00</td>\n",
              "      <td>0.00</td>\n",
              "      <td>0.00</td>\n",
              "      <td>5.00</td>\n",
              "      <td>0.71</td>\n",
              "    </tr>\n",
              "    <tr>\n",
              "      <th>129</th>\n",
              "      <td>19261.00</td>\n",
              "      <td>13.50</td>\n",
              "      <td>1427.00</td>\n",
              "      <td>26.00</td>\n",
              "      <td>0.02</td>\n",
              "      <td>4.00</td>\n",
              "      <td>0.43</td>\n",
              "    </tr>\n",
              "    <tr>\n",
              "      <th>191</th>\n",
              "      <td>916321.00</td>\n",
              "      <td>9.86</td>\n",
              "      <td>92944.00</td>\n",
              "      <td>216.00</td>\n",
              "      <td>0.00</td>\n",
              "      <td>4.00</td>\n",
              "      <td>0.41</td>\n",
              "    </tr>\n",
              "    <tr>\n",
              "      <th>163</th>\n",
              "      <td>943.00</td>\n",
              "      <td>5.89</td>\n",
              "      <td>160.00</td>\n",
              "      <td>0.00</td>\n",
              "      <td>0.00</td>\n",
              "      <td>4.00</td>\n",
              "      <td>0.53</td>\n",
              "    </tr>\n",
              "    <tr>\n",
              "      <th>63</th>\n",
              "      <td>76623.00</td>\n",
              "      <td>12.79</td>\n",
              "      <td>5991.00</td>\n",
              "      <td>8.00</td>\n",
              "      <td>0.00</td>\n",
              "      <td>4.00</td>\n",
              "      <td>0.46</td>\n",
              "    </tr>\n",
              "    <tr>\n",
              "      <th>19</th>\n",
              "      <td>37561.00</td>\n",
              "      <td>49.16</td>\n",
              "      <td>764.00</td>\n",
              "      <td>390.00</td>\n",
              "      <td>0.51</td>\n",
              "      <td>63.00</td>\n",
              "      <td>0.26</td>\n",
              "    </tr>\n",
              "    <tr>\n",
              "      <th>56</th>\n",
              "      <td>326991.00</td>\n",
              "      <td>10.81</td>\n",
              "      <td>30251.00</td>\n",
              "      <td>82.00</td>\n",
              "      <td>0.00</td>\n",
              "      <td>5.00</td>\n",
              "      <td>0.40</td>\n",
              "    </tr>\n",
              "    <tr>\n",
              "      <th>37</th>\n",
              "      <td>47109.00</td>\n",
              "      <td>10.79</td>\n",
              "      <td>4368.00</td>\n",
              "      <td>20.00</td>\n",
              "      <td>0.00</td>\n",
              "      <td>5.00</td>\n",
              "      <td>0.38</td>\n",
              "    </tr>\n",
              "    <tr>\n",
              "      <th>85</th>\n",
              "      <td>891753.00</td>\n",
              "      <td>9.51</td>\n",
              "      <td>93743.00</td>\n",
              "      <td>595.00</td>\n",
              "      <td>0.01</td>\n",
              "      <td>5.00</td>\n",
              "      <td>0.36</td>\n",
              "    </tr>\n",
              "    <tr>\n",
              "      <th>38</th>\n",
              "      <td>74037.00</td>\n",
              "      <td>17.75</td>\n",
              "      <td>4171.00</td>\n",
              "      <td>111.00</td>\n",
              "      <td>0.03</td>\n",
              "      <td>7.00</td>\n",
              "      <td>0.65</td>\n",
              "    </tr>\n",
              "    <tr>\n",
              "      <th>166</th>\n",
              "      <td>4037.00</td>\n",
              "      <td>42.49</td>\n",
              "      <td>95.00</td>\n",
              "      <td>0.00</td>\n",
              "      <td>0.00</td>\n",
              "      <td>43.00</td>\n",
              "      <td>1.58</td>\n",
              "    </tr>\n",
              "    <tr>\n",
              "      <th>29</th>\n",
              "      <td>8674.00</td>\n",
              "      <td>7.33</td>\n",
              "      <td>1183.00</td>\n",
              "      <td>0.00</td>\n",
              "      <td>0.00</td>\n",
              "      <td>4.00</td>\n",
              "      <td>0.39</td>\n",
              "    </tr>\n",
              "    <tr>\n",
              "      <th>74</th>\n",
              "      <td>259023.00</td>\n",
              "      <td>7.64</td>\n",
              "      <td>33917.00</td>\n",
              "      <td>251.00</td>\n",
              "      <td>0.01</td>\n",
              "      <td>4.00</td>\n",
              "      <td>0.29</td>\n",
              "    </tr>\n",
              "    <tr>\n",
              "      <th>197</th>\n",
              "      <td>1852.00</td>\n",
              "      <td>5.02</td>\n",
              "      <td>369.00</td>\n",
              "      <td>0.00</td>\n",
              "      <td>0.00</td>\n",
              "      <td>3.00</td>\n",
              "      <td>0.39</td>\n",
              "    </tr>\n",
              "    <tr>\n",
              "      <th>23</th>\n",
              "      <td>23047.00</td>\n",
              "      <td>7.07</td>\n",
              "      <td>3258.00</td>\n",
              "      <td>0.00</td>\n",
              "      <td>0.00</td>\n",
              "      <td>4.00</td>\n",
              "      <td>0.37</td>\n",
              "    </tr>\n",
              "    <tr>\n",
              "      <th>20</th>\n",
              "      <td>29284.00</td>\n",
              "      <td>12.98</td>\n",
              "      <td>2256.00</td>\n",
              "      <td>24.00</td>\n",
              "      <td>0.01</td>\n",
              "      <td>4.00</td>\n",
              "      <td>0.38</td>\n",
              "    </tr>\n",
              "    <tr>\n",
              "      <th>170</th>\n",
              "      <td>501495.00</td>\n",
              "      <td>10.31</td>\n",
              "      <td>48638.00</td>\n",
              "      <td>25.00</td>\n",
              "      <td>0.00</td>\n",
              "      <td>6.00</td>\n",
              "      <td>0.42</td>\n",
              "    </tr>\n",
              "    <tr>\n",
              "      <th>22</th>\n",
              "      <td>727560.00</td>\n",
              "      <td>11.36</td>\n",
              "      <td>64059.00</td>\n",
              "      <td>171.00</td>\n",
              "      <td>0.00</td>\n",
              "      <td>5.00</td>\n",
              "      <td>0.42</td>\n",
              "    </tr>\n",
              "    <tr>\n",
              "      <th>16</th>\n",
              "      <td>36383.00</td>\n",
              "      <td>12.29</td>\n",
              "      <td>2961.00</td>\n",
              "      <td>53.00</td>\n",
              "      <td>0.02</td>\n",
              "      <td>5.00</td>\n",
              "      <td>0.42</td>\n",
              "    </tr>\n",
              "    <tr>\n",
              "      <th>135</th>\n",
              "      <td>985391.00</td>\n",
              "      <td>11.83</td>\n",
              "      <td>83268.00</td>\n",
              "      <td>479.00</td>\n",
              "      <td>0.01</td>\n",
              "      <td>5.00</td>\n",
              "      <td>0.45</td>\n",
              "    </tr>\n",
              "    <tr>\n",
              "      <th>12</th>\n",
              "      <td>264537.00</td>\n",
              "      <td>8.87</td>\n",
              "      <td>29835.00</td>\n",
              "      <td>120.00</td>\n",
              "      <td>0.00</td>\n",
              "      <td>4.00</td>\n",
              "      <td>0.32</td>\n",
              "    </tr>\n",
              "    <tr>\n",
              "      <th>134</th>\n",
              "      <td>24156.00</td>\n",
              "      <td>8.96</td>\n",
              "      <td>2695.00</td>\n",
              "      <td>8.00</td>\n",
              "      <td>0.00</td>\n",
              "      <td>4.00</td>\n",
              "      <td>0.31</td>\n",
              "    </tr>\n",
              "    <tr>\n",
              "      <th>39</th>\n",
              "      <td>1200845.00</td>\n",
              "      <td>10.74</td>\n",
              "      <td>111764.00</td>\n",
              "      <td>825.00</td>\n",
              "      <td>0.01</td>\n",
              "      <td>5.00</td>\n",
              "      <td>0.40</td>\n",
              "    </tr>\n",
              "    <tr>\n",
              "      <th>110</th>\n",
              "      <td>277305.00</td>\n",
              "      <td>9.88</td>\n",
              "      <td>28079.00</td>\n",
              "      <td>0.00</td>\n",
              "      <td>0.00</td>\n",
              "      <td>5.00</td>\n",
              "      <td>0.36</td>\n",
              "    </tr>\n",
              "    <tr>\n",
              "      <th>157</th>\n",
              "      <td>8080.00</td>\n",
              "      <td>12.45</td>\n",
              "      <td>649.00</td>\n",
              "      <td>0.00</td>\n",
              "      <td>0.00</td>\n",
              "      <td>5.00</td>\n",
              "      <td>0.40</td>\n",
              "    </tr>\n",
              "    <tr>\n",
              "      <th>95</th>\n",
              "      <td>96938.00</td>\n",
              "      <td>9.12</td>\n",
              "      <td>10632.00</td>\n",
              "      <td>0.00</td>\n",
              "      <td>0.00</td>\n",
              "      <td>5.00</td>\n",
              "      <td>0.35</td>\n",
              "    </tr>\n",
              "    <tr>\n",
              "      <th>140</th>\n",
              "      <td>231.00</td>\n",
              "      <td>7.45</td>\n",
              "      <td>31.00</td>\n",
              "      <td>0.00</td>\n",
              "      <td>0.00</td>\n",
              "      <td>5.00</td>\n",
              "      <td>2.02</td>\n",
              "    </tr>\n",
              "    <tr>\n",
              "      <th>121</th>\n",
              "      <td>127657.00</td>\n",
              "      <td>8.94</td>\n",
              "      <td>14274.00</td>\n",
              "      <td>0.00</td>\n",
              "      <td>0.00</td>\n",
              "      <td>4.00</td>\n",
              "      <td>0.36</td>\n",
              "    </tr>\n",
              "    <tr>\n",
              "      <th>94</th>\n",
              "      <td>1999053.00</td>\n",
              "      <td>9.30</td>\n",
              "      <td>214891.00</td>\n",
              "      <td>745.00</td>\n",
              "      <td>0.00</td>\n",
              "      <td>4.00</td>\n",
              "      <td>0.32</td>\n",
              "    </tr>\n",
              "    <tr>\n",
              "      <th>52</th>\n",
              "      <td>637347.00</td>\n",
              "      <td>9.59</td>\n",
              "      <td>66461.00</td>\n",
              "      <td>55.00</td>\n",
              "      <td>0.00</td>\n",
              "      <td>4.00</td>\n",
              "      <td>0.34</td>\n",
              "    </tr>\n",
              "    <tr>\n",
              "      <th>2</th>\n",
              "      <td>160713.00</td>\n",
              "      <td>12.97</td>\n",
              "      <td>12391.00</td>\n",
              "      <td>297.00</td>\n",
              "      <td>0.02</td>\n",
              "      <td>5.00</td>\n",
              "      <td>0.48</td>\n",
              "    </tr>\n",
              "    <tr>\n",
              "      <th>115</th>\n",
              "      <td>1715.00</td>\n",
              "      <td>57.17</td>\n",
              "      <td>30.00</td>\n",
              "      <td>0.00</td>\n",
              "      <td>0.00</td>\n",
              "      <td>60.00</td>\n",
              "      <td>1.15</td>\n",
              "    </tr>\n",
              "    <tr>\n",
              "      <th>133</th>\n",
              "      <td>61474.00</td>\n",
              "      <td>7.54</td>\n",
              "      <td>8154.00</td>\n",
              "      <td>50.00</td>\n",
              "      <td>0.01</td>\n",
              "      <td>3.00</td>\n",
              "      <td>0.30</td>\n",
              "    </tr>\n",
              "    <tr>\n",
              "      <th>147</th>\n",
              "      <td>453.00</td>\n",
              "      <td>9.64</td>\n",
              "      <td>47.00</td>\n",
              "      <td>0.00</td>\n",
              "      <td>0.00</td>\n",
              "      <td>4.00</td>\n",
              "      <td>1.26</td>\n",
              "    </tr>\n",
              "    <tr>\n",
              "      <th>162</th>\n",
              "      <td>37193.00</td>\n",
              "      <td>62.51</td>\n",
              "      <td>595.00</td>\n",
              "      <td>513.00</td>\n",
              "      <td>0.86</td>\n",
              "      <td>63.00</td>\n",
              "      <td>0.32</td>\n",
              "    </tr>\n",
              "  </tbody>\n",
              "</table>\n",
              "</div>"
            ],
            "text/plain": [
              "      SumLight  MeanLight      Area  Counts_63  Percentage_63  Mode  Variation\n",
              "122   40965.00      12.70   3225.00      43.00           0.01  5.00       0.52\n",
              "68     8533.00      14.25    599.00       1.00           0.00  5.00       0.53\n",
              "69     1570.00      10.90    144.00       0.00           0.00  5.00       0.75\n",
              "165  141885.00       8.94  15872.00      78.00           0.00  4.00       0.35\n",
              "185      22.00       3.67      6.00       0.00           0.00  4.00       3.00\n",
              "97    18948.00      26.99    702.00      22.00           0.03 17.00       1.52\n",
              "161   59763.00      10.02   5962.00      56.00           0.01  4.00       0.33\n",
              "125   49049.00      11.66   4207.00       0.00           0.00  5.00       0.53\n",
              "130   35774.00      14.37   2490.00       0.00           0.00  5.00       0.71\n",
              "129   19261.00      13.50   1427.00      26.00           0.02  4.00       0.43\n",
              "191  916321.00       9.86  92944.00     216.00           0.00  4.00       0.41\n",
              "163     943.00       5.89    160.00       0.00           0.00  4.00       0.53\n",
              "63    76623.00      12.79   5991.00       8.00           0.00  4.00       0.46\n",
              "19    37561.00      49.16    764.00     390.00           0.51 63.00       0.26\n",
              "56   326991.00      10.81  30251.00      82.00           0.00  5.00       0.40\n",
              "37    47109.00      10.79   4368.00      20.00           0.00  5.00       0.38\n",
              "85   891753.00       9.51  93743.00     595.00           0.01  5.00       0.36\n",
              "38    74037.00      17.75   4171.00     111.00           0.03  7.00       0.65\n",
              "166    4037.00      42.49     95.00       0.00           0.00 43.00       1.58\n",
              "29     8674.00       7.33   1183.00       0.00           0.00  4.00       0.39\n",
              "74   259023.00       7.64  33917.00     251.00           0.01  4.00       0.29\n",
              "197    1852.00       5.02    369.00       0.00           0.00  3.00       0.39\n",
              "23    23047.00       7.07   3258.00       0.00           0.00  4.00       0.37\n",
              "20    29284.00      12.98   2256.00      24.00           0.01  4.00       0.38\n",
              "170  501495.00      10.31  48638.00      25.00           0.00  6.00       0.42\n",
              "22   727560.00      11.36  64059.00     171.00           0.00  5.00       0.42\n",
              "16    36383.00      12.29   2961.00      53.00           0.02  5.00       0.42\n",
              "135  985391.00      11.83  83268.00     479.00           0.01  5.00       0.45\n",
              "12   264537.00       8.87  29835.00     120.00           0.00  4.00       0.32\n",
              "134   24156.00       8.96   2695.00       8.00           0.00  4.00       0.31\n",
              "39  1200845.00      10.74 111764.00     825.00           0.01  5.00       0.40\n",
              "110  277305.00       9.88  28079.00       0.00           0.00  5.00       0.36\n",
              "157    8080.00      12.45    649.00       0.00           0.00  5.00       0.40\n",
              "95    96938.00       9.12  10632.00       0.00           0.00  5.00       0.35\n",
              "140     231.00       7.45     31.00       0.00           0.00  5.00       2.02\n",
              "121  127657.00       8.94  14274.00       0.00           0.00  4.00       0.36\n",
              "94  1999053.00       9.30 214891.00     745.00           0.00  4.00       0.32\n",
              "52   637347.00       9.59  66461.00      55.00           0.00  4.00       0.34\n",
              "2    160713.00      12.97  12391.00     297.00           0.02  5.00       0.48\n",
              "115    1715.00      57.17     30.00       0.00           0.00 60.00       1.15\n",
              "133   61474.00       7.54   8154.00      50.00           0.01  3.00       0.30\n",
              "147     453.00       9.64     47.00       0.00           0.00  4.00       1.26\n",
              "162   37193.00      62.51    595.00     513.00           0.86 63.00       0.32"
            ]
          },
          "metadata": {
            "tags": []
          },
          "execution_count": 39
        }
      ]
    },
    {
      "cell_type": "markdown",
      "metadata": {
        "id": "REHZKMcRVwBF"
      },
      "source": [
        "LightGBMで学習する"
      ]
    },
    {
      "cell_type": "code",
      "metadata": {
        "id": "w2Q0eNUozV1i"
      },
      "source": [
        "#LightGBMで学習"
      ],
      "execution_count": null,
      "outputs": []
    },
    {
      "cell_type": "code",
      "metadata": {
        "id": "geDTfg0CzxVj"
      },
      "source": [
        "#KFoldを使って5分割交差検証\n",
        "from sklearn.model_selection import KFold\n",
        "fold = KFold(n_splits=5, shuffle=True, random_state=42)\n",
        "cv=list(fold.split(train_x, train_y))"
      ],
      "execution_count": 40,
      "outputs": []
    },
    {
      "cell_type": "code",
      "metadata": {
        "id": "T71eAhrZzzPd"
      },
      "source": [
        "# testデータの予測用\n",
        "pred = np.zeros(valid_y.shape[0])"
      ],
      "execution_count": 41,
      "outputs": []
    },
    {
      "cell_type": "code",
      "metadata": {
        "id": "jsZSTPjgz1qu"
      },
      "source": [
        "#パラメーター設定\n",
        "params = {\n",
        "    'boosting_type': 'gbdt',\n",
        "    'metric': 'rmse',\n",
        "    'objective': 'regression',\n",
        "    'seed': 42,\n",
        "    'learning_rate': 0.01,\n",
        "    \"n_jobs\": -1,\n",
        "    \"verbose\": -1,\n",
        "}"
      ],
      "execution_count": 42,
      "outputs": []
    },
    {
      "cell_type": "code",
      "metadata": {
        "colab": {
          "base_uri": "https://localhost:8080/"
        },
        "id": "x4FN7yxm0GjU",
        "outputId": "7b072875-1a65-4f9d-8df8-ab2bdd196c01"
      },
      "source": [
        "for tr_idx, val_idx in cv:  \n",
        "    x_tr, x_va = train_x.iloc[tr_idx], train_x.iloc[val_idx]\n",
        "    y_tr, y_va = train_y.iloc[tr_idx], train_y.iloc[val_idx]\n",
        "    \n",
        "    # Datasetに入れて学習させる\n",
        "    train_set = lgb.Dataset(x_tr, y_tr)\n",
        "    val_set = lgb.Dataset(x_va, y_va, reference=train_set)\n",
        "        \n",
        "    # Training\n",
        "    model = lgb.train(params, train_set, num_boost_round=10000, early_stopping_rounds=100,\n",
        "                      valid_sets=[train_set, val_set], verbose_eval=-1)\n",
        "    \n",
        "\n",
        "    #予測したらexpで元に戻す\n",
        "    test_pred = model.predict(valid_x)\n",
        "    #予測結果に負の値が出たら０に修正\n",
        "    test_pred = np.where(test_pred < 0, 0, test_pred)\n",
        "    pred += test_pred / 5  #  5fold回すので"
      ],
      "execution_count": 43,
      "outputs": [
        {
          "output_type": "stream",
          "text": [
            "Training until validation scores don't improve for 100 rounds.\n",
            "Early stopping, best iteration is:\n",
            "[59]\ttraining's rmse: 4.74689e+10\tvalid_1's rmse: 4.73782e+10\n",
            "Training until validation scores don't improve for 100 rounds.\n",
            "Early stopping, best iteration is:\n",
            "[932]\ttraining's rmse: 3.18778e+10\tvalid_1's rmse: 3.68771e+10\n",
            "Training until validation scores don't improve for 100 rounds.\n",
            "Early stopping, best iteration is:\n",
            "[1338]\ttraining's rmse: 2.8944e+10\tvalid_1's rmse: 4.29731e+10\n",
            "Training until validation scores don't improve for 100 rounds.\n",
            "Early stopping, best iteration is:\n",
            "[517]\ttraining's rmse: 3.14148e+10\tvalid_1's rmse: 3.88976e+10\n",
            "Training until validation scores don't improve for 100 rounds.\n",
            "Early stopping, best iteration is:\n",
            "[416]\ttraining's rmse: 3.41351e+10\tvalid_1's rmse: 3.70132e+10\n"
          ],
          "name": "stdout"
        }
      ]
    },
    {
      "cell_type": "code",
      "metadata": {
        "id": "jVfh2g6a0KUA"
      },
      "source": [
        "#指数表記を避けるため小数点以下第2位まで表示されるように設定\n",
        "pd.options.display.float_format = '{:.2f}'.format"
      ],
      "execution_count": 44,
      "outputs": []
    },
    {
      "cell_type": "code",
      "metadata": {
        "id": "dUG8bOdB0OBM"
      },
      "source": [
        "valid_y = valid_y.reset_index(drop=True)\n",
        "pred_valid_y=pd.DataFrame(pred, columns=[\"pred_gdp\"])"
      ],
      "execution_count": 45,
      "outputs": []
    },
    {
      "cell_type": "code",
      "metadata": {
        "colab": {
          "base_uri": "https://localhost:8080/",
          "height": 1000
        },
        "id": "AuyuSKwz0lfY",
        "outputId": "6e02df72-2526-46f6-a24e-92c0e8485144"
      },
      "source": [
        "#比較用\n",
        "compare = pd.concat([valid_y, pred_valid_y], axis=1)\n",
        "compare"
      ],
      "execution_count": 46,
      "outputs": [
        {
          "output_type": "execute_result",
          "data": {
            "text/html": [
              "<div>\n",
              "<style scoped>\n",
              "    .dataframe tbody tr th:only-of-type {\n",
              "        vertical-align: middle;\n",
              "    }\n",
              "\n",
              "    .dataframe tbody tr th {\n",
              "        vertical-align: top;\n",
              "    }\n",
              "\n",
              "    .dataframe thead th {\n",
              "        text-align: right;\n",
              "    }\n",
              "</style>\n",
              "<table border=\"1\" class=\"dataframe\">\n",
              "  <thead>\n",
              "    <tr style=\"text-align: right;\">\n",
              "      <th></th>\n",
              "      <th>gdp</th>\n",
              "      <th>pred_gdp</th>\n",
              "    </tr>\n",
              "  </thead>\n",
              "  <tbody>\n",
              "    <tr>\n",
              "      <th>0</th>\n",
              "      <td>10181021770.43</td>\n",
              "      <td>19882467012.52</td>\n",
              "    </tr>\n",
              "    <tr>\n",
              "      <th>1</th>\n",
              "      <td>900628061.63</td>\n",
              "      <td>8303909960.25</td>\n",
              "    </tr>\n",
              "    <tr>\n",
              "      <th>2</th>\n",
              "      <td>825828703.63</td>\n",
              "      <td>7782803454.08</td>\n",
              "    </tr>\n",
              "    <tr>\n",
              "      <th>3</th>\n",
              "      <td>20661030000.00</td>\n",
              "      <td>17271738661.89</td>\n",
              "    </tr>\n",
              "    <tr>\n",
              "      <th>4</th>\n",
              "      <td>27101076.28</td>\n",
              "      <td>5208988839.71</td>\n",
              "    </tr>\n",
              "    <tr>\n",
              "      <th>5</th>\n",
              "      <td>10401851850.61</td>\n",
              "      <td>18122470147.20</td>\n",
              "    </tr>\n",
              "    <tr>\n",
              "      <th>6</th>\n",
              "      <td>12814961485.10</td>\n",
              "      <td>17731942040.03</td>\n",
              "    </tr>\n",
              "    <tr>\n",
              "      <th>7</th>\n",
              "      <td>4159330369.55</td>\n",
              "      <td>27009586254.31</td>\n",
              "    </tr>\n",
              "    <tr>\n",
              "      <th>8</th>\n",
              "      <td>9128843109.16</td>\n",
              "      <td>19661291943.03</td>\n",
              "    </tr>\n",
              "    <tr>\n",
              "      <th>9</th>\n",
              "      <td>3670515287.99</td>\n",
              "      <td>8108032912.23</td>\n",
              "    </tr>\n",
              "    <tr>\n",
              "      <th>10</th>\n",
              "      <td>33689223673.26</td>\n",
              "      <td>118674239761.26</td>\n",
              "    </tr>\n",
              "    <tr>\n",
              "      <th>11</th>\n",
              "      <td>597765363.13</td>\n",
              "      <td>5208988839.71</td>\n",
              "    </tr>\n",
              "    <tr>\n",
              "      <th>12</th>\n",
              "      <td>12065138272.75</td>\n",
              "      <td>16032585304.15</td>\n",
              "    </tr>\n",
              "    <tr>\n",
              "      <th>13</th>\n",
              "      <td>22938218085.11</td>\n",
              "      <td>51558108123.47</td>\n",
              "    </tr>\n",
              "    <tr>\n",
              "      <th>14</th>\n",
              "      <td>19652492636.84</td>\n",
              "      <td>58313106618.73</td>\n",
              "    </tr>\n",
              "    <tr>\n",
              "      <th>15</th>\n",
              "      <td>26017925551.84</td>\n",
              "      <td>8760223140.17</td>\n",
              "    </tr>\n",
              "    <tr>\n",
              "      <th>16</th>\n",
              "      <td>236311338427.34</td>\n",
              "      <td>113638157299.98</td>\n",
              "    </tr>\n",
              "    <tr>\n",
              "      <th>17</th>\n",
              "      <td>9593537550.75</td>\n",
              "      <td>49378398490.60</td>\n",
              "    </tr>\n",
              "    <tr>\n",
              "      <th>18</th>\n",
              "      <td>2363156432.34</td>\n",
              "      <td>13418399406.65</td>\n",
              "    </tr>\n",
              "    <tr>\n",
              "      <th>19</th>\n",
              "      <td>1264758197.97</td>\n",
              "      <td>9906888375.21</td>\n",
              "    </tr>\n",
              "    <tr>\n",
              "      <th>20</th>\n",
              "      <td>37733994976.41</td>\n",
              "      <td>56361929360.78</td>\n",
              "    </tr>\n",
              "    <tr>\n",
              "      <th>21</th>\n",
              "      <td>560959527.82</td>\n",
              "      <td>6215865968.70</td>\n",
              "    </tr>\n",
              "    <tr>\n",
              "      <th>22</th>\n",
              "      <td>1336957250.00</td>\n",
              "      <td>11514771416.25</td>\n",
              "    </tr>\n",
              "    <tr>\n",
              "      <th>23</th>\n",
              "      <td>7820000000.00</td>\n",
              "      <td>6378522362.20</td>\n",
              "    </tr>\n",
              "    <tr>\n",
              "      <th>24</th>\n",
              "      <td>88945625173.66</td>\n",
              "      <td>105032036142.23</td>\n",
              "    </tr>\n",
              "    <tr>\n",
              "      <th>25</th>\n",
              "      <td>49209523809.52</td>\n",
              "      <td>118179882770.62</td>\n",
              "    </tr>\n",
              "    <tr>\n",
              "      <th>26</th>\n",
              "      <td>8369175126.25</td>\n",
              "      <td>14136235016.29</td>\n",
              "    </tr>\n",
              "    <tr>\n",
              "      <th>27</th>\n",
              "      <td>169481317540.36</td>\n",
              "      <td>113845027200.57</td>\n",
              "    </tr>\n",
              "    <tr>\n",
              "      <th>28</th>\n",
              "      <td>44291490420.50</td>\n",
              "      <td>46309857834.64</td>\n",
              "    </tr>\n",
              "    <tr>\n",
              "      <th>29</th>\n",
              "      <td>5397121856.35</td>\n",
              "      <td>10460704928.01</td>\n",
              "    </tr>\n",
              "    <tr>\n",
              "      <th>30</th>\n",
              "      <td>233821670220.29</td>\n",
              "      <td>114023885451.14</td>\n",
              "    </tr>\n",
              "    <tr>\n",
              "      <th>31</th>\n",
              "      <td>37440673477.90</td>\n",
              "      <td>33171672107.88</td>\n",
              "    </tr>\n",
              "    <tr>\n",
              "      <th>32</th>\n",
              "      <td>5379378135.44</td>\n",
              "      <td>6916365603.82</td>\n",
              "    </tr>\n",
              "    <tr>\n",
              "      <th>33</th>\n",
              "      <td>37021512048.82</td>\n",
              "      <td>22845485360.10</td>\n",
              "    </tr>\n",
              "    <tr>\n",
              "      <th>34</th>\n",
              "      <td>44290951.93</td>\n",
              "      <td>6067377452.59</td>\n",
              "    </tr>\n",
              "    <tr>\n",
              "      <th>35</th>\n",
              "      <td>9401731495.72</td>\n",
              "      <td>18474421203.11</td>\n",
              "    </tr>\n",
              "    <tr>\n",
              "      <th>36</th>\n",
              "      <td>115308661142.93</td>\n",
              "      <td>117181634786.80</td>\n",
              "    </tr>\n",
              "    <tr>\n",
              "      <th>37</th>\n",
              "      <td>62519686000.00</td>\n",
              "      <td>99795612844.58</td>\n",
              "    </tr>\n",
              "    <tr>\n",
              "      <th>38</th>\n",
              "      <td>75492384801.37</td>\n",
              "      <td>46477602746.09</td>\n",
              "    </tr>\n",
              "    <tr>\n",
              "      <th>39</th>\n",
              "      <td>5557245122.32</td>\n",
              "      <td>13418399406.65</td>\n",
              "    </tr>\n",
              "    <tr>\n",
              "      <th>40</th>\n",
              "      <td>8876191120.76</td>\n",
              "      <td>16853115039.69</td>\n",
              "    </tr>\n",
              "    <tr>\n",
              "      <th>41</th>\n",
              "      <td>186891100.00</td>\n",
              "      <td>6966333014.61</td>\n",
              "    </tr>\n",
              "    <tr>\n",
              "      <th>42</th>\n",
              "      <td>192408387762.12</td>\n",
              "      <td>50623340653.45</td>\n",
              "    </tr>\n",
              "  </tbody>\n",
              "</table>\n",
              "</div>"
            ],
            "text/plain": [
              "               gdp        pred_gdp\n",
              "0   10181021770.43  19882467012.52\n",
              "1     900628061.63   8303909960.25\n",
              "2     825828703.63   7782803454.08\n",
              "3   20661030000.00  17271738661.89\n",
              "4      27101076.28   5208988839.71\n",
              "5   10401851850.61  18122470147.20\n",
              "6   12814961485.10  17731942040.03\n",
              "7    4159330369.55  27009586254.31\n",
              "8    9128843109.16  19661291943.03\n",
              "9    3670515287.99   8108032912.23\n",
              "10  33689223673.26 118674239761.26\n",
              "11    597765363.13   5208988839.71\n",
              "12  12065138272.75  16032585304.15\n",
              "13  22938218085.11  51558108123.47\n",
              "14  19652492636.84  58313106618.73\n",
              "15  26017925551.84   8760223140.17\n",
              "16 236311338427.34 113638157299.98\n",
              "17   9593537550.75  49378398490.60\n",
              "18   2363156432.34  13418399406.65\n",
              "19   1264758197.97   9906888375.21\n",
              "20  37733994976.41  56361929360.78\n",
              "21    560959527.82   6215865968.70\n",
              "22   1336957250.00  11514771416.25\n",
              "23   7820000000.00   6378522362.20\n",
              "24  88945625173.66 105032036142.23\n",
              "25  49209523809.52 118179882770.62\n",
              "26   8369175126.25  14136235016.29\n",
              "27 169481317540.36 113845027200.57\n",
              "28  44291490420.50  46309857834.64\n",
              "29   5397121856.35  10460704928.01\n",
              "30 233821670220.29 114023885451.14\n",
              "31  37440673477.90  33171672107.88\n",
              "32   5379378135.44   6916365603.82\n",
              "33  37021512048.82  22845485360.10\n",
              "34     44290951.93   6067377452.59\n",
              "35   9401731495.72  18474421203.11\n",
              "36 115308661142.93 117181634786.80\n",
              "37  62519686000.00  99795612844.58\n",
              "38  75492384801.37  46477602746.09\n",
              "39   5557245122.32  13418399406.65\n",
              "40   8876191120.76  16853115039.69\n",
              "41    186891100.00   6966333014.61\n",
              "42 192408387762.12  50623340653.45"
            ]
          },
          "metadata": {
            "tags": []
          },
          "execution_count": 46
        }
      ]
    },
    {
      "cell_type": "markdown",
      "metadata": {
        "id": "5ftKx2HSWEcc"
      },
      "source": [
        "散布図（赤線上が予測値と実測値が一致している線）"
      ]
    },
    {
      "cell_type": "code",
      "metadata": {
        "colab": {
          "base_uri": "https://localhost:8080/",
          "height": 295
        },
        "id": "XiWtvpGR0rTh",
        "outputId": "32350179-85e0-4e18-8779-fb2cd41c3a14"
      },
      "source": [
        "#散布図\n",
        "sns.scatterplot(data=compare, x='gdp', y=\"pred_gdp\")\n",
        "plt.plot(compare[\"gdp\"], compare[\"gdp\"], color = 'red', label = 'x=y') \n",
        "plt.title('gdp vs pred_gdp') # グラフタイトル\n",
        "plt.show()"
      ],
      "execution_count": 49,
      "outputs": [
        {
          "output_type": "display_data",
          "data": {
            "image/png": "[encoded data removed]",
            "text/plain": [
              "<Figure size 432x288 with 1 Axes>"
            ]
          },
          "metadata": {
            "tags": [],
            "needs_background": "light"
          }
        }
      ]
    },
    {
      "cell_type": "markdown",
      "metadata": {
        "id": "d5BQUF2sWWH0"
      },
      "source": [
        "決定係数（１に近いほど上手く予測できている）"
      ]
    },
    {
      "cell_type": "code",
      "metadata": {
        "colab": {
          "base_uri": "https://localhost:8080/"
        },
        "id": "X_YXcc4L02_E",
        "outputId": "9328edca-b2fe-4f74-f0ec-60b1c26e15cb"
      },
      "source": [
        "#決定係数算出\n",
        "print(r2_score(compare[\"gdp\"], compare[\"pred_gdp\"]))"
      ],
      "execution_count": 50,
      "outputs": [
        {
          "output_type": "stream",
          "text": [
            "0.5341719081631335\n"
          ],
          "name": "stdout"
        }
      ]
    },
    {
      "cell_type": "markdown",
      "metadata": {
        "id": "hgbkIQ6jWYO9"
      },
      "source": [
        "feature_importance（どの特徴量がどれくらい予測に寄与しているのかの確認）"
      ]
    },
    {
      "cell_type": "code",
      "metadata": {
        "colab": {
          "base_uri": "https://localhost:8080/",
          "height": 312
        },
        "id": "W6hXzQXH1B27",
        "outputId": "b99cbad4-6748-4e56-9e25-c6050e5151e6"
      },
      "source": [
        "#feature_importance\n",
        "lgb.plot_importance(model, importance_type=\"gain\")"
      ],
      "execution_count": 51,
      "outputs": [
        {
          "output_type": "execute_result",
          "data": {
            "text/plain": [
              "<matplotlib.axes._subplots.AxesSubplot at 0x7fa22efb4e50>"
            ]
          },
          "metadata": {
            "tags": []
          },
          "execution_count": 51
        },
        {
          "output_type": "display_data",
          "data": {
            "image/png": "[encoded data removed]",
            "text/plain": [
              "<Figure size 432x288 with 1 Axes>"
            ]
          },
          "metadata": {
            "tags": [],
            "needs_background": "light"
          }
        }
      ]
    },
    {
      "cell_type": "markdown",
      "metadata": {
        "id": "ZN6z_ugAWnTf"
      },
      "source": [
        "精度向上のため特徴量をSumLight、Counts_63、Modeに絞って学習させます"
      ]
    },
    {
      "cell_type": "code",
      "metadata": {
        "id": "SShqvwDH2IK_"
      },
      "source": [
        "#特徴量を絞って学習"
      ],
      "execution_count": null,
      "outputs": []
    },
    {
      "cell_type": "code",
      "metadata": {
        "id": "RvpPb2Cfz3wb"
      },
      "source": [
        "#Objective（目的変数）とExplanatory（説明変数）の分離\n",
        "Objective = NightLight[[\"SumLight\",\"MeanLight\",\"Area\",\"Counts_63\",\"Percentage_63\",\"Mode\",\"Variation\"]]\n",
        "Explanatory = NightLight[[\"gdp\"]]\n",
        "\n",
        "#学習データと検証データに分ける(学習データ128個、検証データ43個)\n",
        "train_x2, valid_x2, train_y2, valid_y2 = train_test_split(Objective, Explanatory, test_size=0.25, random_state=42, shuffle=True)"
      ],
      "execution_count": 52,
      "outputs": []
    },
    {
      "cell_type": "code",
      "metadata": {
        "colab": {
          "base_uri": "https://localhost:8080/",
          "height": 391
        },
        "id": "qAPAHViZ1mvK",
        "outputId": "f1b9b944-7aa7-4347-aa4b-7fe1f3aa745f"
      },
      "source": [
        "#要らない特徴量を落とす\n",
        "train_x2 = train_x2.drop(columns=[\"MeanLight\",\"Variation\",\"Percentage_63\",\"Area\"])\n",
        "train_x2"
      ],
      "execution_count": 53,
      "outputs": [
        {
          "output_type": "execute_result",
          "data": {
            "text/html": [
              "<div>\n",
              "<style scoped>\n",
              "    .dataframe tbody tr th:only-of-type {\n",
              "        vertical-align: middle;\n",
              "    }\n",
              "\n",
              "    .dataframe tbody tr th {\n",
              "        vertical-align: top;\n",
              "    }\n",
              "\n",
              "    .dataframe thead th {\n",
              "        text-align: right;\n",
              "    }\n",
              "</style>\n",
              "<table border=\"1\" class=\"dataframe\">\n",
              "  <thead>\n",
              "    <tr style=\"text-align: right;\">\n",
              "      <th></th>\n",
              "      <th>SumLight</th>\n",
              "      <th>Counts_63</th>\n",
              "      <th>Mode</th>\n",
              "    </tr>\n",
              "  </thead>\n",
              "  <tbody>\n",
              "    <tr>\n",
              "      <th>171</th>\n",
              "      <td>288508.00</td>\n",
              "      <td>45.00</td>\n",
              "      <td>6.00</td>\n",
              "    </tr>\n",
              "    <tr>\n",
              "      <th>31</th>\n",
              "      <td>3406.00</td>\n",
              "      <td>0.00</td>\n",
              "      <td>5.00</td>\n",
              "    </tr>\n",
              "    <tr>\n",
              "      <th>174</th>\n",
              "      <td>2870.00</td>\n",
              "      <td>0.00</td>\n",
              "      <td>7.00</td>\n",
              "    </tr>\n",
              "    <tr>\n",
              "      <th>179</th>\n",
              "      <td>422933.00</td>\n",
              "      <td>184.00</td>\n",
              "      <td>4.00</td>\n",
              "    </tr>\n",
              "    <tr>\n",
              "      <th>187</th>\n",
              "      <td>31579.00</td>\n",
              "      <td>4.00</td>\n",
              "      <td>5.00</td>\n",
              "    </tr>\n",
              "    <tr>\n",
              "      <th>...</th>\n",
              "      <td>...</td>\n",
              "      <td>...</td>\n",
              "      <td>...</td>\n",
              "    </tr>\n",
              "    <tr>\n",
              "      <th>88</th>\n",
              "      <td>126592.00</td>\n",
              "      <td>73.00</td>\n",
              "      <td>6.00</td>\n",
              "    </tr>\n",
              "    <tr>\n",
              "      <th>127</th>\n",
              "      <td>4295.00</td>\n",
              "      <td>0.00</td>\n",
              "      <td>4.00</td>\n",
              "    </tr>\n",
              "    <tr>\n",
              "      <th>18</th>\n",
              "      <td>603350.00</td>\n",
              "      <td>36.00</td>\n",
              "      <td>4.00</td>\n",
              "    </tr>\n",
              "    <tr>\n",
              "      <th>112</th>\n",
              "      <td>200577.00</td>\n",
              "      <td>13.00</td>\n",
              "      <td>5.00</td>\n",
              "    </tr>\n",
              "    <tr>\n",
              "      <th>123</th>\n",
              "      <td>21889.00</td>\n",
              "      <td>65.00</td>\n",
              "      <td>63.00</td>\n",
              "    </tr>\n",
              "  </tbody>\n",
              "</table>\n",
              "<p>128 rows × 3 columns</p>\n",
              "</div>"
            ],
            "text/plain": [
              "     SumLight  Counts_63  Mode\n",
              "171 288508.00      45.00  6.00\n",
              "31    3406.00       0.00  5.00\n",
              "174   2870.00       0.00  7.00\n",
              "179 422933.00     184.00  4.00\n",
              "187  31579.00       4.00  5.00\n",
              "..        ...        ...   ...\n",
              "88  126592.00      73.00  6.00\n",
              "127   4295.00       0.00  4.00\n",
              "18  603350.00      36.00  4.00\n",
              "112 200577.00      13.00  5.00\n",
              "123  21889.00      65.00 63.00\n",
              "\n",
              "[128 rows x 3 columns]"
            ]
          },
          "metadata": {
            "tags": []
          },
          "execution_count": 53
        }
      ]
    },
    {
      "cell_type": "code",
      "metadata": {
        "colab": {
          "base_uri": "https://localhost:8080/",
          "height": 1000
        },
        "id": "p_66URGw2oQ_",
        "outputId": "36d60d12-61f2-496d-ae65-a68b7a041500"
      },
      "source": [
        "valid_x2 = valid_x2.drop(columns=[\"MeanLight\",\"Variation\",\"Percentage_63\",\"Area\"])\n",
        "valid_x2"
      ],
      "execution_count": 54,
      "outputs": [
        {
          "output_type": "execute_result",
          "data": {
            "text/html": [
              "<div>\n",
              "<style scoped>\n",
              "    .dataframe tbody tr th:only-of-type {\n",
              "        vertical-align: middle;\n",
              "    }\n",
              "\n",
              "    .dataframe tbody tr th {\n",
              "        vertical-align: top;\n",
              "    }\n",
              "\n",
              "    .dataframe thead th {\n",
              "        text-align: right;\n",
              "    }\n",
              "</style>\n",
              "<table border=\"1\" class=\"dataframe\">\n",
              "  <thead>\n",
              "    <tr style=\"text-align: right;\">\n",
              "      <th></th>\n",
              "      <th>SumLight</th>\n",
              "      <th>Counts_63</th>\n",
              "      <th>Mode</th>\n",
              "    </tr>\n",
              "  </thead>\n",
              "  <tbody>\n",
              "    <tr>\n",
              "      <th>122</th>\n",
              "      <td>40965.00</td>\n",
              "      <td>43.00</td>\n",
              "      <td>5.00</td>\n",
              "    </tr>\n",
              "    <tr>\n",
              "      <th>68</th>\n",
              "      <td>8533.00</td>\n",
              "      <td>1.00</td>\n",
              "      <td>5.00</td>\n",
              "    </tr>\n",
              "    <tr>\n",
              "      <th>69</th>\n",
              "      <td>1570.00</td>\n",
              "      <td>0.00</td>\n",
              "      <td>5.00</td>\n",
              "    </tr>\n",
              "    <tr>\n",
              "      <th>165</th>\n",
              "      <td>141885.00</td>\n",
              "      <td>78.00</td>\n",
              "      <td>4.00</td>\n",
              "    </tr>\n",
              "    <tr>\n",
              "      <th>185</th>\n",
              "      <td>22.00</td>\n",
              "      <td>0.00</td>\n",
              "      <td>4.00</td>\n",
              "    </tr>\n",
              "    <tr>\n",
              "      <th>97</th>\n",
              "      <td>18948.00</td>\n",
              "      <td>22.00</td>\n",
              "      <td>17.00</td>\n",
              "    </tr>\n",
              "    <tr>\n",
              "      <th>161</th>\n",
              "      <td>59763.00</td>\n",
              "      <td>56.00</td>\n",
              "      <td>4.00</td>\n",
              "    </tr>\n",
              "    <tr>\n",
              "      <th>125</th>\n",
              "      <td>49049.00</td>\n",
              "      <td>0.00</td>\n",
              "      <td>5.00</td>\n",
              "    </tr>\n",
              "    <tr>\n",
              "      <th>130</th>\n",
              "      <td>35774.00</td>\n",
              "      <td>0.00</td>\n",
              "      <td>5.00</td>\n",
              "    </tr>\n",
              "    <tr>\n",
              "      <th>129</th>\n",
              "      <td>19261.00</td>\n",
              "      <td>26.00</td>\n",
              "      <td>4.00</td>\n",
              "    </tr>\n",
              "    <tr>\n",
              "      <th>191</th>\n",
              "      <td>916321.00</td>\n",
              "      <td>216.00</td>\n",
              "      <td>4.00</td>\n",
              "    </tr>\n",
              "    <tr>\n",
              "      <th>163</th>\n",
              "      <td>943.00</td>\n",
              "      <td>0.00</td>\n",
              "      <td>4.00</td>\n",
              "    </tr>\n",
              "    <tr>\n",
              "      <th>63</th>\n",
              "      <td>76623.00</td>\n",
              "      <td>8.00</td>\n",
              "      <td>4.00</td>\n",
              "    </tr>\n",
              "    <tr>\n",
              "      <th>19</th>\n",
              "      <td>37561.00</td>\n",
              "      <td>390.00</td>\n",
              "      <td>63.00</td>\n",
              "    </tr>\n",
              "    <tr>\n",
              "      <th>56</th>\n",
              "      <td>326991.00</td>\n",
              "      <td>82.00</td>\n",
              "      <td>5.00</td>\n",
              "    </tr>\n",
              "    <tr>\n",
              "      <th>37</th>\n",
              "      <td>47109.00</td>\n",
              "      <td>20.00</td>\n",
              "      <td>5.00</td>\n",
              "    </tr>\n",
              "    <tr>\n",
              "      <th>85</th>\n",
              "      <td>891753.00</td>\n",
              "      <td>595.00</td>\n",
              "      <td>5.00</td>\n",
              "    </tr>\n",
              "    <tr>\n",
              "      <th>38</th>\n",
              "      <td>74037.00</td>\n",
              "      <td>111.00</td>\n",
              "      <td>7.00</td>\n",
              "    </tr>\n",
              "    <tr>\n",
              "      <th>166</th>\n",
              "      <td>4037.00</td>\n",
              "      <td>0.00</td>\n",
              "      <td>43.00</td>\n",
              "    </tr>\n",
              "    <tr>\n",
              "      <th>29</th>\n",
              "      <td>8674.00</td>\n",
              "      <td>0.00</td>\n",
              "      <td>4.00</td>\n",
              "    </tr>\n",
              "    <tr>\n",
              "      <th>74</th>\n",
              "      <td>259023.00</td>\n",
              "      <td>251.00</td>\n",
              "      <td>4.00</td>\n",
              "    </tr>\n",
              "    <tr>\n",
              "      <th>197</th>\n",
              "      <td>1852.00</td>\n",
              "      <td>0.00</td>\n",
              "      <td>3.00</td>\n",
              "    </tr>\n",
              "    <tr>\n",
              "      <th>23</th>\n",
              "      <td>23047.00</td>\n",
              "      <td>0.00</td>\n",
              "      <td>4.00</td>\n",
              "    </tr>\n",
              "    <tr>\n",
              "      <th>20</th>\n",
              "      <td>29284.00</td>\n",
              "      <td>24.00</td>\n",
              "      <td>4.00</td>\n",
              "    </tr>\n",
              "    <tr>\n",
              "      <th>170</th>\n",
              "      <td>501495.00</td>\n",
              "      <td>25.00</td>\n",
              "      <td>6.00</td>\n",
              "    </tr>\n",
              "    <tr>\n",
              "      <th>22</th>\n",
              "      <td>727560.00</td>\n",
              "      <td>171.00</td>\n",
              "      <td>5.00</td>\n",
              "    </tr>\n",
              "    <tr>\n",
              "      <th>16</th>\n",
              "      <td>36383.00</td>\n",
              "      <td>53.00</td>\n",
              "      <td>5.00</td>\n",
              "    </tr>\n",
              "    <tr>\n",
              "      <th>135</th>\n",
              "      <td>985391.00</td>\n",
              "      <td>479.00</td>\n",
              "      <td>5.00</td>\n",
              "    </tr>\n",
              "    <tr>\n",
              "      <th>12</th>\n",
              "      <td>264537.00</td>\n",
              "      <td>120.00</td>\n",
              "      <td>4.00</td>\n",
              "    </tr>\n",
              "    <tr>\n",
              "      <th>134</th>\n",
              "      <td>24156.00</td>\n",
              "      <td>8.00</td>\n",
              "      <td>4.00</td>\n",
              "    </tr>\n",
              "    <tr>\n",
              "      <th>39</th>\n",
              "      <td>1200845.00</td>\n",
              "      <td>825.00</td>\n",
              "      <td>5.00</td>\n",
              "    </tr>\n",
              "    <tr>\n",
              "      <th>110</th>\n",
              "      <td>277305.00</td>\n",
              "      <td>0.00</td>\n",
              "      <td>5.00</td>\n",
              "    </tr>\n",
              "    <tr>\n",
              "      <th>157</th>\n",
              "      <td>8080.00</td>\n",
              "      <td>0.00</td>\n",
              "      <td>5.00</td>\n",
              "    </tr>\n",
              "    <tr>\n",
              "      <th>95</th>\n",
              "      <td>96938.00</td>\n",
              "      <td>0.00</td>\n",
              "      <td>5.00</td>\n",
              "    </tr>\n",
              "    <tr>\n",
              "      <th>140</th>\n",
              "      <td>231.00</td>\n",
              "      <td>0.00</td>\n",
              "      <td>5.00</td>\n",
              "    </tr>\n",
              "    <tr>\n",
              "      <th>121</th>\n",
              "      <td>127657.00</td>\n",
              "      <td>0.00</td>\n",
              "      <td>4.00</td>\n",
              "    </tr>\n",
              "    <tr>\n",
              "      <th>94</th>\n",
              "      <td>1999053.00</td>\n",
              "      <td>745.00</td>\n",
              "      <td>4.00</td>\n",
              "    </tr>\n",
              "    <tr>\n",
              "      <th>52</th>\n",
              "      <td>637347.00</td>\n",
              "      <td>55.00</td>\n",
              "      <td>4.00</td>\n",
              "    </tr>\n",
              "    <tr>\n",
              "      <th>2</th>\n",
              "      <td>160713.00</td>\n",
              "      <td>297.00</td>\n",
              "      <td>5.00</td>\n",
              "    </tr>\n",
              "    <tr>\n",
              "      <th>115</th>\n",
              "      <td>1715.00</td>\n",
              "      <td>0.00</td>\n",
              "      <td>60.00</td>\n",
              "    </tr>\n",
              "    <tr>\n",
              "      <th>133</th>\n",
              "      <td>61474.00</td>\n",
              "      <td>50.00</td>\n",
              "      <td>3.00</td>\n",
              "    </tr>\n",
              "    <tr>\n",
              "      <th>147</th>\n",
              "      <td>453.00</td>\n",
              "      <td>0.00</td>\n",
              "      <td>4.00</td>\n",
              "    </tr>\n",
              "    <tr>\n",
              "      <th>162</th>\n",
              "      <td>37193.00</td>\n",
              "      <td>513.00</td>\n",
              "      <td>63.00</td>\n",
              "    </tr>\n",
              "  </tbody>\n",
              "</table>\n",
              "</div>"
            ],
            "text/plain": [
              "      SumLight  Counts_63  Mode\n",
              "122   40965.00      43.00  5.00\n",
              "68     8533.00       1.00  5.00\n",
              "69     1570.00       0.00  5.00\n",
              "165  141885.00      78.00  4.00\n",
              "185      22.00       0.00  4.00\n",
              "97    18948.00      22.00 17.00\n",
              "161   59763.00      56.00  4.00\n",
              "125   49049.00       0.00  5.00\n",
              "130   35774.00       0.00  5.00\n",
              "129   19261.00      26.00  4.00\n",
              "191  916321.00     216.00  4.00\n",
              "163     943.00       0.00  4.00\n",
              "63    76623.00       8.00  4.00\n",
              "19    37561.00     390.00 63.00\n",
              "56   326991.00      82.00  5.00\n",
              "37    47109.00      20.00  5.00\n",
              "85   891753.00     595.00  5.00\n",
              "38    74037.00     111.00  7.00\n",
              "166    4037.00       0.00 43.00\n",
              "29     8674.00       0.00  4.00\n",
              "74   259023.00     251.00  4.00\n",
              "197    1852.00       0.00  3.00\n",
              "23    23047.00       0.00  4.00\n",
              "20    29284.00      24.00  4.00\n",
              "170  501495.00      25.00  6.00\n",
              "22   727560.00     171.00  5.00\n",
              "16    36383.00      53.00  5.00\n",
              "135  985391.00     479.00  5.00\n",
              "12   264537.00     120.00  4.00\n",
              "134   24156.00       8.00  4.00\n",
              "39  1200845.00     825.00  5.00\n",
              "110  277305.00       0.00  5.00\n",
              "157    8080.00       0.00  5.00\n",
              "95    96938.00       0.00  5.00\n",
              "140     231.00       0.00  5.00\n",
              "121  127657.00       0.00  4.00\n",
              "94  1999053.00     745.00  4.00\n",
              "52   637347.00      55.00  4.00\n",
              "2    160713.00     297.00  5.00\n",
              "115    1715.00       0.00 60.00\n",
              "133   61474.00      50.00  3.00\n",
              "147     453.00       0.00  4.00\n",
              "162   37193.00     513.00 63.00"
            ]
          },
          "metadata": {
            "tags": []
          },
          "execution_count": 54
        }
      ]
    },
    {
      "cell_type": "code",
      "metadata": {
        "colab": {
          "base_uri": "https://localhost:8080/"
        },
        "id": "iF97_L5r2sh2",
        "outputId": "86489229-6a9a-49b8-d429-b4649c96816e"
      },
      "source": [
        "#KFoldを使って5分割交差検証\n",
        "from sklearn.model_selection import KFold\n",
        "fold = KFold(n_splits=5, shuffle=True, random_state=42)\n",
        "cv=list(fold.split(train_x2, train_y2))\n",
        "\n",
        "# testデータの予測用\n",
        "pred2 = np.zeros(valid_y2.shape[0])\n",
        "\n",
        "params = {\n",
        "    'boosting_type': 'gbdt',\n",
        "    'metric': 'rmse',\n",
        "    'objective': 'regression',\n",
        "    'seed': 42,\n",
        "    'learning_rate': 0.01,\n",
        "    \"n_jobs\": -1,\n",
        "    \"verbose\": -1,\n",
        "}\n",
        "\n",
        "for tr_idx, val_idx in cv:  \n",
        "    x_tr, x_va = train_x2.iloc[tr_idx], train_x2.iloc[val_idx]\n",
        "    y_tr, y_va = train_y2.iloc[tr_idx], train_y2.iloc[val_idx]\n",
        "    \n",
        "    # Datasetに入れて学習させる\n",
        "    train_set = lgb.Dataset(x_tr, y_tr)\n",
        "    val_set = lgb.Dataset(x_va, y_va, reference=train_set)\n",
        "        \n",
        "    # Training\n",
        "    model = lgb.train(params, train_set, num_boost_round=10000, early_stopping_rounds=100,\n",
        "                      valid_sets=[train_set, val_set], verbose_eval=-1)\n",
        "    \n",
        "\n",
        "    #予測したらexpで元に戻す\n",
        "    test_pred = model.predict(valid_x2)\n",
        "    #予測結果に負の値が出たら０に修正\n",
        "    test_pred = np.where(test_pred < 0, 0, test_pred)\n",
        "    pred2 += test_pred / 5  #  5fold回すので"
      ],
      "execution_count": 55,
      "outputs": [
        {
          "output_type": "stream",
          "text": [
            "Training until validation scores don't improve for 100 rounds.\n",
            "Early stopping, best iteration is:\n",
            "[62]\ttraining's rmse: 4.68321e+10\tvalid_1's rmse: 4.68851e+10\n",
            "Training until validation scores don't improve for 100 rounds.\n",
            "Early stopping, best iteration is:\n",
            "[1723]\ttraining's rmse: 3.49226e+10\tvalid_1's rmse: 3.80925e+10\n",
            "Training until validation scores don't improve for 100 rounds.\n",
            "Early stopping, best iteration is:\n",
            "[728]\ttraining's rmse: 3.70524e+10\tvalid_1's rmse: 4.4129e+10\n",
            "Training until validation scores don't improve for 100 rounds.\n",
            "Early stopping, best iteration is:\n",
            "[907]\ttraining's rmse: 3.48244e+10\tvalid_1's rmse: 3.84763e+10\n",
            "Training until validation scores don't improve for 100 rounds.\n",
            "Early stopping, best iteration is:\n",
            "[247]\ttraining's rmse: 4.01179e+10\tvalid_1's rmse: 3.72434e+10\n"
          ],
          "name": "stdout"
        }
      ]
    },
    {
      "cell_type": "code",
      "metadata": {
        "id": "aWcO8ZrD22SK"
      },
      "source": [
        "valid_y2 = valid_y2.reset_index(drop=True)\n",
        "pred_valid_y2=pd.DataFrame(pred2, columns=[\"pred_gdp\"])"
      ],
      "execution_count": 56,
      "outputs": []
    },
    {
      "cell_type": "code",
      "metadata": {
        "colab": {
          "base_uri": "https://localhost:8080/",
          "height": 1000
        },
        "id": "JakUuVDJ3GNO",
        "outputId": "48b6074c-10f3-47db-d568-afd0ab74a648"
      },
      "source": [
        "compare2 = pd.concat([valid_y2, pred_valid_y2], axis=1)\n",
        "compare2"
      ],
      "execution_count": 57,
      "outputs": [
        {
          "output_type": "execute_result",
          "data": {
            "text/html": [
              "<div>\n",
              "<style scoped>\n",
              "    .dataframe tbody tr th:only-of-type {\n",
              "        vertical-align: middle;\n",
              "    }\n",
              "\n",
              "    .dataframe tbody tr th {\n",
              "        vertical-align: top;\n",
              "    }\n",
              "\n",
              "    .dataframe thead th {\n",
              "        text-align: right;\n",
              "    }\n",
              "</style>\n",
              "<table border=\"1\" class=\"dataframe\">\n",
              "  <thead>\n",
              "    <tr style=\"text-align: right;\">\n",
              "      <th></th>\n",
              "      <th>gdp</th>\n",
              "      <th>pred_gdp</th>\n",
              "    </tr>\n",
              "  </thead>\n",
              "  <tbody>\n",
              "    <tr>\n",
              "      <th>0</th>\n",
              "      <td>10181021770.43</td>\n",
              "      <td>19030439872.09</td>\n",
              "    </tr>\n",
              "    <tr>\n",
              "      <th>1</th>\n",
              "      <td>900628061.63</td>\n",
              "      <td>9379158828.01</td>\n",
              "    </tr>\n",
              "    <tr>\n",
              "      <th>2</th>\n",
              "      <td>825828703.63</td>\n",
              "      <td>8906741475.65</td>\n",
              "    </tr>\n",
              "    <tr>\n",
              "      <th>3</th>\n",
              "      <td>20661030000.00</td>\n",
              "      <td>23793458338.98</td>\n",
              "    </tr>\n",
              "    <tr>\n",
              "      <th>4</th>\n",
              "      <td>27101076.28</td>\n",
              "      <td>6721145421.92</td>\n",
              "    </tr>\n",
              "    <tr>\n",
              "      <th>5</th>\n",
              "      <td>10401851850.61</td>\n",
              "      <td>11487853697.67</td>\n",
              "    </tr>\n",
              "    <tr>\n",
              "      <th>6</th>\n",
              "      <td>12814961485.10</td>\n",
              "      <td>31842884785.37</td>\n",
              "    </tr>\n",
              "    <tr>\n",
              "      <th>7</th>\n",
              "      <td>4159330369.55</td>\n",
              "      <td>22955690245.07</td>\n",
              "    </tr>\n",
              "    <tr>\n",
              "      <th>8</th>\n",
              "      <td>9128843109.16</td>\n",
              "      <td>14399094133.39</td>\n",
              "    </tr>\n",
              "    <tr>\n",
              "      <th>9</th>\n",
              "      <td>3670515287.99</td>\n",
              "      <td>9301894690.08</td>\n",
              "    </tr>\n",
              "    <tr>\n",
              "      <th>10</th>\n",
              "      <td>33689223673.26</td>\n",
              "      <td>115135665076.29</td>\n",
              "    </tr>\n",
              "    <tr>\n",
              "      <th>11</th>\n",
              "      <td>597765363.13</td>\n",
              "      <td>6721145421.92</td>\n",
              "    </tr>\n",
              "    <tr>\n",
              "      <th>12</th>\n",
              "      <td>12065138272.75</td>\n",
              "      <td>16938641767.58</td>\n",
              "    </tr>\n",
              "    <tr>\n",
              "      <th>13</th>\n",
              "      <td>22938218085.11</td>\n",
              "      <td>56900039408.13</td>\n",
              "    </tr>\n",
              "    <tr>\n",
              "      <th>14</th>\n",
              "      <td>19652492636.84</td>\n",
              "      <td>61228560122.65</td>\n",
              "    </tr>\n",
              "    <tr>\n",
              "      <th>15</th>\n",
              "      <td>26017925551.84</td>\n",
              "      <td>20177698755.71</td>\n",
              "    </tr>\n",
              "    <tr>\n",
              "      <th>16</th>\n",
              "      <td>236311338427.34</td>\n",
              "      <td>135815492989.11</td>\n",
              "    </tr>\n",
              "    <tr>\n",
              "      <th>17</th>\n",
              "      <td>9593537550.75</td>\n",
              "      <td>40089536067.97</td>\n",
              "    </tr>\n",
              "    <tr>\n",
              "      <th>18</th>\n",
              "      <td>2363156432.34</td>\n",
              "      <td>8579298490.90</td>\n",
              "    </tr>\n",
              "    <tr>\n",
              "      <th>19</th>\n",
              "      <td>1264758197.97</td>\n",
              "      <td>6815989922.79</td>\n",
              "    </tr>\n",
              "    <tr>\n",
              "      <th>20</th>\n",
              "      <td>37733994976.41</td>\n",
              "      <td>68759919224.91</td>\n",
              "    </tr>\n",
              "    <tr>\n",
              "      <th>21</th>\n",
              "      <td>560959527.82</td>\n",
              "      <td>6721145421.92</td>\n",
              "    </tr>\n",
              "    <tr>\n",
              "      <th>22</th>\n",
              "      <td>1336957250.00</td>\n",
              "      <td>11976134011.09</td>\n",
              "    </tr>\n",
              "    <tr>\n",
              "      <th>23</th>\n",
              "      <td>7820000000.00</td>\n",
              "      <td>9416854238.73</td>\n",
              "    </tr>\n",
              "    <tr>\n",
              "      <th>24</th>\n",
              "      <td>88945625173.66</td>\n",
              "      <td>105081255985.99</td>\n",
              "    </tr>\n",
              "    <tr>\n",
              "      <th>25</th>\n",
              "      <td>49209523809.52</td>\n",
              "      <td>125997992276.15</td>\n",
              "    </tr>\n",
              "    <tr>\n",
              "      <th>26</th>\n",
              "      <td>8369175126.25</td>\n",
              "      <td>25989026611.70</td>\n",
              "    </tr>\n",
              "    <tr>\n",
              "      <th>27</th>\n",
              "      <td>169481317540.36</td>\n",
              "      <td>135815492989.11</td>\n",
              "    </tr>\n",
              "    <tr>\n",
              "      <th>28</th>\n",
              "      <td>44291490420.50</td>\n",
              "      <td>61828120405.59</td>\n",
              "    </tr>\n",
              "    <tr>\n",
              "      <th>29</th>\n",
              "      <td>5397121856.35</td>\n",
              "      <td>11847609524.72</td>\n",
              "    </tr>\n",
              "    <tr>\n",
              "      <th>30</th>\n",
              "      <td>233821670220.29</td>\n",
              "      <td>135815492989.11</td>\n",
              "    </tr>\n",
              "    <tr>\n",
              "      <th>31</th>\n",
              "      <td>37440673477.90</td>\n",
              "      <td>39855298522.11</td>\n",
              "    </tr>\n",
              "    <tr>\n",
              "      <th>32</th>\n",
              "      <td>5379378135.44</td>\n",
              "      <td>9001585976.52</td>\n",
              "    </tr>\n",
              "    <tr>\n",
              "      <th>33</th>\n",
              "      <td>37021512048.82</td>\n",
              "      <td>23550929150.30</td>\n",
              "    </tr>\n",
              "    <tr>\n",
              "      <th>34</th>\n",
              "      <td>44290951.93</td>\n",
              "      <td>8906741475.65</td>\n",
              "    </tr>\n",
              "    <tr>\n",
              "      <th>35</th>\n",
              "      <td>9401731495.72</td>\n",
              "      <td>12458043969.11</td>\n",
              "    </tr>\n",
              "    <tr>\n",
              "      <th>36</th>\n",
              "      <td>115308661142.93</td>\n",
              "      <td>126554223361.75</td>\n",
              "    </tr>\n",
              "    <tr>\n",
              "      <th>37</th>\n",
              "      <td>62519686000.00</td>\n",
              "      <td>100248582280.62</td>\n",
              "    </tr>\n",
              "    <tr>\n",
              "      <th>38</th>\n",
              "      <td>75492384801.37</td>\n",
              "      <td>59442744054.00</td>\n",
              "    </tr>\n",
              "    <tr>\n",
              "      <th>39</th>\n",
              "      <td>5557245122.32</td>\n",
              "      <td>8579298490.90</td>\n",
              "    </tr>\n",
              "    <tr>\n",
              "      <th>40</th>\n",
              "      <td>8876191120.76</td>\n",
              "      <td>31667777317.54</td>\n",
              "    </tr>\n",
              "    <tr>\n",
              "      <th>41</th>\n",
              "      <td>186891100.00</td>\n",
              "      <td>6721145421.92</td>\n",
              "    </tr>\n",
              "    <tr>\n",
              "      <th>42</th>\n",
              "      <td>192408387762.12</td>\n",
              "      <td>56900039408.13</td>\n",
              "    </tr>\n",
              "  </tbody>\n",
              "</table>\n",
              "</div>"
            ],
            "text/plain": [
              "               gdp        pred_gdp\n",
              "0   10181021770.43  19030439872.09\n",
              "1     900628061.63   9379158828.01\n",
              "2     825828703.63   8906741475.65\n",
              "3   20661030000.00  23793458338.98\n",
              "4      27101076.28   6721145421.92\n",
              "5   10401851850.61  11487853697.67\n",
              "6   12814961485.10  31842884785.37\n",
              "7    4159330369.55  22955690245.07\n",
              "8    9128843109.16  14399094133.39\n",
              "9    3670515287.99   9301894690.08\n",
              "10  33689223673.26 115135665076.29\n",
              "11    597765363.13   6721145421.92\n",
              "12  12065138272.75  16938641767.58\n",
              "13  22938218085.11  56900039408.13\n",
              "14  19652492636.84  61228560122.65\n",
              "15  26017925551.84  20177698755.71\n",
              "16 236311338427.34 135815492989.11\n",
              "17   9593537550.75  40089536067.97\n",
              "18   2363156432.34   8579298490.90\n",
              "19   1264758197.97   6815989922.79\n",
              "20  37733994976.41  68759919224.91\n",
              "21    560959527.82   6721145421.92\n",
              "22   1336957250.00  11976134011.09\n",
              "23   7820000000.00   9416854238.73\n",
              "24  88945625173.66 105081255985.99\n",
              "25  49209523809.52 125997992276.15\n",
              "26   8369175126.25  25989026611.70\n",
              "27 169481317540.36 135815492989.11\n",
              "28  44291490420.50  61828120405.59\n",
              "29   5397121856.35  11847609524.72\n",
              "30 233821670220.29 135815492989.11\n",
              "31  37440673477.90  39855298522.11\n",
              "32   5379378135.44   9001585976.52\n",
              "33  37021512048.82  23550929150.30\n",
              "34     44290951.93   8906741475.65\n",
              "35   9401731495.72  12458043969.11\n",
              "36 115308661142.93 126554223361.75\n",
              "37  62519686000.00 100248582280.62\n",
              "38  75492384801.37  59442744054.00\n",
              "39   5557245122.32   8579298490.90\n",
              "40   8876191120.76  31667777317.54\n",
              "41    186891100.00   6721145421.92\n",
              "42 192408387762.12  56900039408.13"
            ]
          },
          "metadata": {
            "tags": []
          },
          "execution_count": 57
        }
      ]
    },
    {
      "cell_type": "code",
      "metadata": {
        "colab": {
          "base_uri": "https://localhost:8080/",
          "height": 295
        },
        "id": "GwKquCNI3JqM",
        "outputId": "8c99bc76-aa72-4320-ad94-505e9fa83736"
      },
      "source": [
        "sns.scatterplot(data=compare2, x='gdp', y=\"pred_gdp\")\n",
        "plt.plot(compare2[\"gdp\"], compare2[\"gdp\"], color = 'red', label = 'x=y') \n",
        "plt.title('gdp vs pred_gdp') # グラフタイトル\n",
        "plt.show()"
      ],
      "execution_count": 58,
      "outputs": [
        {
          "output_type": "display_data",
          "data": {
            "image/png": "[encoded data removed]",
            "text/plain": [
              "<Figure size 432x288 with 1 Axes>"
            ]
          },
          "metadata": {
            "tags": [],
            "needs_background": "light"
          }
        }
      ]
    },
    {
      "cell_type": "code",
      "metadata": {
        "colab": {
          "base_uri": "https://localhost:8080/"
        },
        "id": "Sien2us_3RRe",
        "outputId": "1d39f15a-adcf-49f6-cff1-c616bbbe67db"
      },
      "source": [
        "from sklearn.metrics import r2_score\n",
        "print(r2_score(compare2[\"gdp\"], compare2[\"pred_gdp\"]))"
      ],
      "execution_count": 59,
      "outputs": [
        {
          "output_type": "stream",
          "text": [
            "0.6106648056845366\n"
          ],
          "name": "stdout"
        }
      ]
    }
  ]
}